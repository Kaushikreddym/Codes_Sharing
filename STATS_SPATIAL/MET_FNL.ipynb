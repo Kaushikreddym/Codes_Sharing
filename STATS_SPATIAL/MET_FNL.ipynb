{
 "cells": [
  {
   "cell_type": "code",
   "execution_count": 5,
   "metadata": {},
   "outputs": [],
   "source": [
    "# import MODULES\n",
    "import numpy as np\n",
    "import matplotlib.pyplot as plt\n",
    "import xarray as xray\n",
    "from glob import glob\n",
    "from cartopy.feature import ShapelyFeature\n",
    "from cartopy.io.shapereader import Reader\n",
    "import cartopy.crs as ccrs\n",
    "from matplotlib.cm import get_cmap\n",
    "from datetime import datetime\n",
    "from netCDF4 import Dataset,MFDataset\n",
    "#from wrf import getvar, interplevel, to_np, latlon_coords, get_cartopy, cartopy_xlim, cartopy_ylim, ALL_TIMES, geo_bounds\n",
    "import cmaps\n",
    "import matplotlib.patches as mpatches\n",
    "#import scipy.stats as st\n",
    "from cartopy.mpl.gridliner import LONGITUDE_FORMATTER, LATITUDE_FORMATTER\n",
    "from cartopy.io.shapereader import Reader\n",
    "from cartopy.feature import ShapelyFeature\n",
    "import matplotlib.ticker as mticker\n",
    "#import wrf\n",
    "import sys\n",
    "#wrf.omp_enabled()\n",
    "import pandas as pd\n",
    "import matplotlib\n",
    "#import seaborn as sns\n",
    "#sns.set_style('whitegrid')\n",
    "font = {'family' : 'normal',\n",
    "        'weight' : 'normal',\n",
    "        'size'   : 22}\n",
    "\n",
    "matplotlib.rc('font', **font)"
   ]
  },
  {
   "cell_type": "code",
   "execution_count": 6,
   "metadata": {},
   "outputs": [],
   "source": [
    "def spatial_plot(ax,lat,lon,dat,cart,ran,cmpi,title):\n",
    "    \n",
    "    resol_N = [[75,90],[23,30],['1971-1-1','2010-12-31'],'N_box']\n",
    "    resol_S = [[73,81],[14,22],['1971-1-1','2010-12-31'],'S_box']\n",
    "    plotpath = '/home/kaushik/Desktop/plots_spatial/'\n",
    "    \n",
    "    # Mollweide\n",
    "    dmin=ran[0]\n",
    "    dmax = ran[-1]\n",
    "    #    dmin=-1*np.max([np.abs(np.percentile(dat,1)),np.percentile(dat,99)])\n",
    "    #    dmax=np.max([np.abs(np.percentile(dat,1)),np.percentile(dat,99)])\n",
    "    print([dmin,dmax])\n",
    "    pmesh = ax.pcolormesh(lon,lat,dat,vmin=dmin,vmax=dmax,transform=ccrs.PlateCarree(),cmap=cmpi)\n",
    "    #pmesh = ax.contourf(lon,lat,dat,np.linspace(dmin,dmax,18),transform=ccrs.PlateCarree(),cmap=cmpi,extend = 'both')\n",
    "    #pmesh = ax.pcolormesh(lon,lat,dat,transform=ccrs.PlateCarree(),cmap=cmpi)\n",
    "    ax.coastlines(resolution='10m')\n",
    "    #ax.add_patch(mpatches.Rectangle(xy=[resol_N[0][0], resol_N[1][0]], width=resol_N[0][1]-resol_N[0][0], height=resol_N[1][1]-resol_N[1][0],facecolor='none',edgecolor='black',transform=ccrs.PlateCarree()))\n",
    "    #ax.add_patch(mpatches.Rectangle(xy=[resol_S[0][0], resol_S[1][0]], width=resol_S[0][1]-resol_S[0][0], height=resol_S[1][1]-resol_S[1][0],facecolor='none',edgecolor='black',transform=ccrs.PlateCarree()))\n",
    "    fname = '/mnt/nas/DATA/kaushik/scripts/Python/India_shapefiles/India.shp'\n",
    "    shape_feature = ShapelyFeature(Reader(fname).geometries(),ccrs.PlateCarree(), facecolor='none',edgecolor='black')\n",
    "    ax.add_feature(shape_feature)\n",
    "    plt.title(title)\n",
    "\n",
    "    gl = ax.gridlines(crs=ccrs.PlateCarree(), draw_labels=True,linewidth=1, color='black', alpha=0.3, linestyle='--')\n",
    "    gl.xlabels_top = False\n",
    "    gl.ylabels_left = True\n",
    "    gl.ylabels_right = False\n",
    "    gl.xlabel_style = {'size': 20}\n",
    "    gl.ylabel_style = {'size': 20}\n",
    "    #gl.xlines = False\n",
    "    gl.xlocator = mticker.FixedLocator([45,60,75,90,105,120])\n",
    "    gl.ylocator = mticker.FixedLocator([-25,-10, 5, 20, 35,50])\n",
    "    gl.xformatter = LONGITUDE_FORMATTER\n",
    "    gl.yformatter = LATITUDE_FORMATTER\n",
    "\n",
    "    #plt.savefig(plotpath+title+'_JA_diff.png',bbox_inches='tight',dpi=300)\n",
    "    #plt.clf()\n",
    "    #plt.close('all')\n",
    "    return ax,pmesh,gl"
   ]
  },
  {
   "cell_type": "code",
   "execution_count": 7,
   "metadata": {},
   "outputs": [],
   "source": [
    "import geopandas as gpd\n",
    "from rasterio import features\n",
    "from affine import Affine\n",
    "\n",
    "def transform_from_latlon(lat, lon):\n",
    "    \"\"\" input 1D array of lat / lon and output an Affine transformation\n",
    "    \"\"\"\n",
    "    lat = np.asarray(lat)\n",
    "    lon = np.asarray(lon)\n",
    "    trans = Affine.translation(lon[0], lat[0])\n",
    "    scale = Affine.scale(lon[1] - lon[0], lat[1] - lat[0])\n",
    "    return trans * scale\n",
    "\n",
    "def rasterize(shapes, coords, latitude='lat', longitude='lon',\n",
    "              fill=np.nan, **kwargs):\n",
    "    \"\"\"Rasterize a list of (geometry, fill_value) tuples onto the given\n",
    "    xray coordinates. This only works for 1d latitude and longitude\n",
    "    arrays.\n",
    "\n",
    "    usage:\n",
    "    -----\n",
    "    1. read shapefile to geopandas.GeoDataFrame\n",
    "          `states = gpd.read_file(shp_dir+shp_file)`\n",
    "    2. encode the different shapefiles that capture those lat-lons as different\n",
    "        numbers i.e. 0.0, 1.0 ... and otherwise np.nan\n",
    "          `shapes = (zip(states.geometry, range(len(states))))`\n",
    "    3. Assign this to a new coord in your original xarray.DataArray\n",
    "          `ds['states'] = rasterize(shapes, ds.coords, longitude='X', latitude='Y')`\n",
    "\n",
    "    arguments:\n",
    "    ---------\n",
    "    : **kwargs (dict): passed to `rasterio.rasterize` function\n",
    "\n",
    "    attrs:\n",
    "    -----\n",
    "    :transform (affine.Affine): how to translate from latlon to ...?\n",
    "    :raster (numpy.ndarray): use rasterio.features.rasterize fill the values\n",
    "      outside the .shp file with np.nan\n",
    "    :spatial_coords (dict): dictionary of {\"X\":xr.DataArray, \"Y\":xr.DataArray()}\n",
    "      with \"X\", \"Y\" as keys, and xr.DataArray as values\n",
    "\n",
    "    returns:\n",
    "    -------\n",
    "    :(xr.DataArray): DataArray with `values` of nan for points outside shapefile\n",
    "      and coords `Y` = latitude, 'X' = longitude.\n",
    "\n",
    "\n",
    "    \"\"\"\n",
    "    transform = transform_from_latlon(coords[latitude], coords[longitude])\n",
    "    out_shape = (len(coords[latitude]), len(coords[longitude]))\n",
    "    raster = features.rasterize(shapes, out_shape=out_shape,\n",
    "                                fill=fill, transform=transform,\n",
    "                                dtype=float, **kwargs)\n",
    "    spatial_coords = {latitude: coords[latitude], longitude: coords[longitude]}\n",
    "    return xray.DataArray(raster, coords=spatial_coords, dims=(latitude, longitude))\n",
    "\n",
    "def add_shape_coord_from_data_array(xr_da, shp_path, coord_name):\n",
    "    \"\"\" Create a new coord for the xr_da indicating whether or not it\n",
    "         is inside the shapefile\n",
    "\n",
    "        Creates a new coord - \"coord_name\" which will have integer values\n",
    "         used to subset xr_da for plotting / analysis/\n",
    "\n",
    "        Usage:\n",
    "        -----\n",
    "        precip_da = add_shape_coord_from_data_array(precip_da, \"awash.shp\", \"awash\")\n",
    "        awash_da = precip_da.where(precip_da.awash==0, other=np.nan)\n",
    "    \"\"\"\n",
    "    # 1. read in shapefile\n",
    "    shp_gpd = gpd.read_file(shp_path)\n",
    "\n",
    "    # 2. create a list of tuples (shapely.geometry, id)\n",
    "    #    this allows for many different polygons within a .shp file (e.g. States of US)\n",
    "    shapes = [(shape, n) for n, shape in enumerate(shp_gpd.geometry)]\n",
    "\n",
    "    # 3. create a new coord in the xr_da which will be set to the id in `shapes`\n",
    "    xr_da[coord_name] = rasterize(shapes, xr_da.coords,\n",
    "                               longitude='lon', latitude='lat')\n",
    "\n",
    "    return xr_da\n",
    "\n",
    "\n",
    "def reg_sel():\n",
    "    # Region Def.\n",
    "    resol = {}\n",
    "    resol['R1'] = [[72.5,81],[33,38]]\n",
    "    #resol['R2'] = [[75,81,81,88,88,75],[33,33,28,28,24,24]]\n",
    "    resol['R2'] = [[75,88],[24,33]]\n",
    "    resol['R3'] = [[88,98],[22,30]]\n",
    "    resol['R4'] = [[68,75],[22,30]]\n",
    "    resol['R5'] = [[75,88],[17,24]]\n",
    "    resol['R6'] = [[72,81],[8,17]]\n",
    "    resol['ind'] = [[65,95],[5,45]]\n",
    "\n",
    "    resol['IGP'] = [[75,83],[23,28]]#,['1971-1-1','2010-12-31'],'N_box']\n",
    "    resol['EI'] = [[85,90],[20,25]]\n",
    "    resol['S'] = [[73,81],[14,22]]\n",
    "    resol['D'] = [[67+2,73+2],[23-2,30-2]]\n",
    "    return resol\n",
    "\n"
   ]
  },
  {
   "cell_type": "code",
   "execution_count": 8,
   "metadata": {},
   "outputs": [],
   "source": [
    "import scipy.stats as st\n",
    "import pandas as pd\n",
    "from collections import OrderedDict\n",
    "\n",
    "\n",
    "def calc_PCC(WRF, OBS):\n",
    "    return np.round(st.pearsonr(WRF,OBS)[0],2)\n",
    "def calc_RMSE(WRF, OBS):\n",
    "    return np.round(np.sqrt(((WRF - OBS)**2).mean()).data,2)\n",
    "def calc_NMSE(WRF, OBS):\n",
    "    return np.round((((WRF - OBS)**2).mean()/(WRF.mean() * OBS.mean())).data *100,1)\n",
    "def calc_NMB(WRF, OBS):\n",
    "    return np.round(((WRF - OBS).sum()/OBS.sum()).data*100,2)\n",
    "def func_tp(tperiod):\n",
    "    tslice = {}\n",
    "    tslice['seas_std'] = ['MAM','DJF','JJA','SON']\n",
    "    tslice['seas'] = ['JJAS','ON']\n",
    "    tslice['Annual'] = ['Annual']\n",
    "    tslice['months'] = list(np.linspace(1,12,12))\n",
    "    for j in tslice.items():\n",
    "        if tperiod in j[1]:\n",
    "            tslice = j[0]\n",
    "        else:\n",
    "            print('')\n",
    "    return tslice                \n",
    "\n",
    "def regionX(dset,reg):\n",
    "    resol = reg_sel()\n",
    "    data = dset.sel(lat=slice(resol[reg][1][0], resol[reg][1][1]),lon=slice(resol[reg][0][0], resol[reg][0][1]))\n",
    "    return data\n",
    "def timeX(dset,tperiod):\n",
    "    ts = func_tp(tperiod)\n",
    "    if ts == 'seas_std':\n",
    "        data = dset.sel(time = dset['time.season'] == tperiod)\n",
    "    elif ts == 'Annual':\n",
    "        data = dset.sel(time = dset['time.year'] == 2015)\n",
    "    elif ts == 'months':\n",
    "        data = dset.sel(time = dset['time.month'] == tperiod)\n",
    "    elif (ts == 'seas') & (tperiod == 'JJAS'):\n",
    "        data = dset.sel(time = (dset['time.month']>=6) & (dset['time.month']<=9))\n",
    "    elif (ts == 'seas') & (tperiod == 'ON'):\n",
    "        data = dset.sel(time = (dset['time.month']>=10) & (dset['time.month']<=11))\n",
    "    else:\n",
    "        print('invalid time period')\n",
    "    return data\n",
    "def indshp(dset):\n",
    "    add_shape_coord_from_data_array(dset, '/mnt/nas/DATA/kaushik/scripts/Python/India_shapefiles/India.shp', 'ind')\n",
    "    data = dset.where(dset.ind==0)\n",
    "    return data\n",
    "def tsX(dset,region='R1',tperiod='MAM'):\n",
    "    data = timeX(indshp(regionX(dset,region)),tperiod)\n",
    "    data = data.mean(['lat','lon']).resample(time='1D').mean()\n",
    "    return data\n",
    "\n",
    "def calc_stats(model_dset,obs_dset,region='R3',tperiod='MAM',obs_name='MODIS',scale=1):\n",
    "    STATS = {}\n",
    "    WRF = tsX(model_dset,region,tperiod)*scale\n",
    "    OBS = tsX(obs_dset,region,tperiod)\n",
    "    \n",
    "    #STATS['PCC'] = calc_PCC(WRF[np.isfinite(OBS)],OBS[np.isfinite(OBS)])\n",
    "    STATS['NMB'] = calc_NMB(WRF[np.isfinite(OBS)],OBS[np.isfinite(OBS)])\n",
    "    STATS['RMSE'] = calc_RMSE(WRF[np.isfinite(OBS)],OBS[np.isfinite(OBS)])\n",
    "    STATS['NMSE'] = calc_NMSE(WRF[np.isfinite(OBS)],OBS[np.isfinite(OBS)])\n",
    "    STATS['O'] = np.round(OBS[np.isfinite(OBS)].mean().data,3)\n",
    "    STATS['M'] = np.round(WRF[np.isfinite(OBS)].mean().data,3)\n",
    "    return STATS"
   ]
  },
  {
   "cell_type": "code",
   "execution_count": 9,
   "metadata": {},
   "outputs": [],
   "source": [
    "ranspec= {} \n",
    "ranspec['pr']=[0,40]\n",
    "ranspec['rsds'] = [0,400]\n",
    "ranspec['zmla'] = [200,1200]\n",
    "\n",
    "def ext_CBMZ(vname):\n",
    "    REL_PATH = '/mnt/nas/DATA/Common/CBMZ_IISER/'\n",
    "    FNAME = vname+'_daily_2015.nc'\n",
    "    return xray.open_dataset(REL_PATH+FNAME)[vname]\n",
    "\n",
    "def ext_WRF(vname):\n",
    "    dmap = ['NoLBC_DU','processed']\n",
    "    dset_WRF = []\n",
    "    for fl in dmap:\n",
    "        REL_PATH = '/mnt/nas/DATA/kaushik/proc/'+fl+'/NCAP-COALESCE/NCAP-COALESCE/IIT-Bombay/IITB-WRF_Chem/BASELINE/r1i1p1f1/'+'1hr'+'/'+vname+'/gn/'\n",
    "        flist = sorted(glob(REL_PATH+'*2015*'))\n",
    "        print(flist,'END')\n",
    "        dset_base = xray.concat([xray.open_dataset(f)[vname] for f in flist],'time')\n",
    "        dset_WRF.append(dset_base)\n",
    "\n",
    "    dset_WRF = xray.concat(dset_WRF,pd.Index(dmap,name='exp'))\n",
    "    return dset_WRF\n",
    "def ext_OBS():\n",
    "    dset_OBS = {}\n",
    "\n",
    "    IMD_path = '/mnt/nas/DATA/Common/Observations/IMD/'\n",
    "    IMD_fname = 'precip2015.nc'\n",
    "    dset_OBS['IMD'] = xray.open_dataset(IMD_path+IMD_fname)['rf'].sel(lat=slice(0,40),lon=slice(65,98))\n",
    "\n",
    "    CERES_path = '/mnt/nas/DATA/Common/Observations/CERES/'\n",
    "    CERES_fname = 'CERES_EBAF-Surface_Edition4.0_200003-201803.nc'\n",
    "    dset = xray.open_dataset(CERES_path+CERES_fname)['sfc_sw_down_clr_mon']\n",
    "    dset_OBS['CERES-SWDNC'] = dset\n",
    "    \n",
    "    CERES_fname = 'CERES_EBAF-TOA_Edition4.0_200003-201810.nc'\n",
    "    dset = xray.open_dataset(CERES_path+CERES_fname)['toa_lw_all_mon']\n",
    "    dset_OBS['CERES-OLR'] = dset\n",
    "    \n",
    "    ERA_path = '/mnt/nas/DATA/Common/Observations/ERA-interim/'\n",
    "    ERA_fname = 'forecast.nc'\n",
    "    ERA_dset = xray.open_dataset(ERA_path+ERA_fname)['blh']\n",
    "    ERA_dset = ERA_dset.reindex(latitude=ERA_dset.latitude[::-1])\n",
    "    dset_OBS['PBLH'] = ERA_dset.rename({'longitude': 'lon','latitude': 'lat'}).sel(time = ERA_dset['time.year']==2015)\n",
    "    \n",
    "    CRU_path = '/mnt/nas/DATA/Common/Observations/2mT/'\n",
    "    CRU_fname = 'cru_ts4.03.2011.2018.tmp.dat.nc'\n",
    "    CRU_dset = xray.open_dataset(CRU_path+CRU_fname)['tmp']\n",
    "    dset_OBS['CRU-T'] = CRU_dset+273\n",
    "    \n",
    "    \n",
    "    return dset_OBS\n",
    "\n"
   ]
  },
  {
   "cell_type": "code",
   "execution_count": 8,
   "metadata": {},
   "outputs": [
    {
     "name": "stdout",
     "output_type": "stream",
     "text": [
      "['/mnt/nas/DATA/kaushik/proc/NoLBC_DU/NCAP-COALESCE/NCAP-COALESCE/IIT-Bombay/IITB-WRF_Chem/BASELINE/r1i1p1f1/1hr/tas/gn/tas_1hr_IITB-WRF_Chem_BASELINE_r1i1p1f1_gn_201501011300-201502010000.nc', '/mnt/nas/DATA/kaushik/proc/NoLBC_DU/NCAP-COALESCE/NCAP-COALESCE/IIT-Bombay/IITB-WRF_Chem/BASELINE/r1i1p1f1/1hr/tas/gn/tas_1hr_IITB-WRF_Chem_BASELINE_r1i1p1f1_gn_201502010100-201503010000.nc', '/mnt/nas/DATA/kaushik/proc/NoLBC_DU/NCAP-COALESCE/NCAP-COALESCE/IIT-Bombay/IITB-WRF_Chem/BASELINE/r1i1p1f1/1hr/tas/gn/tas_1hr_IITB-WRF_Chem_BASELINE_r1i1p1f1_gn_201503010100-201504010000.nc', '/mnt/nas/DATA/kaushik/proc/NoLBC_DU/NCAP-COALESCE/NCAP-COALESCE/IIT-Bombay/IITB-WRF_Chem/BASELINE/r1i1p1f1/1hr/tas/gn/tas_1hr_IITB-WRF_Chem_BASELINE_r1i1p1f1_gn_201504011300-201505010000.nc', '/mnt/nas/DATA/kaushik/proc/NoLBC_DU/NCAP-COALESCE/NCAP-COALESCE/IIT-Bombay/IITB-WRF_Chem/BASELINE/r1i1p1f1/1hr/tas/gn/tas_1hr_IITB-WRF_Chem_BASELINE_r1i1p1f1_gn_201505010100-201506010000.nc', '/mnt/nas/DATA/kaushik/proc/NoLBC_DU/NCAP-COALESCE/NCAP-COALESCE/IIT-Bombay/IITB-WRF_Chem/BASELINE/r1i1p1f1/1hr/tas/gn/tas_1hr_IITB-WRF_Chem_BASELINE_r1i1p1f1_gn_201506011300-201507010000.nc', '/mnt/nas/DATA/kaushik/proc/NoLBC_DU/NCAP-COALESCE/NCAP-COALESCE/IIT-Bombay/IITB-WRF_Chem/BASELINE/r1i1p1f1/1hr/tas/gn/tas_1hr_IITB-WRF_Chem_BASELINE_r1i1p1f1_gn_201507010100-201507301200.nc', '/mnt/nas/DATA/kaushik/proc/NoLBC_DU/NCAP-COALESCE/NCAP-COALESCE/IIT-Bombay/IITB-WRF_Chem/BASELINE/r1i1p1f1/1hr/tas/gn/tas_1hr_IITB-WRF_Chem_BASELINE_r1i1p1f1_gn_201508011300-201509010000.nc', '/mnt/nas/DATA/kaushik/proc/NoLBC_DU/NCAP-COALESCE/NCAP-COALESCE/IIT-Bombay/IITB-WRF_Chem/BASELINE/r1i1p1f1/1hr/tas/gn/tas_1hr_IITB-WRF_Chem_BASELINE_r1i1p1f1_gn_201509010100-201510010000.nc', '/mnt/nas/DATA/kaushik/proc/NoLBC_DU/NCAP-COALESCE/NCAP-COALESCE/IIT-Bombay/IITB-WRF_Chem/BASELINE/r1i1p1f1/1hr/tas/gn/tas_1hr_IITB-WRF_Chem_BASELINE_r1i1p1f1_gn_201510010100-201511010000.nc', '/mnt/nas/DATA/kaushik/proc/NoLBC_DU/NCAP-COALESCE/NCAP-COALESCE/IIT-Bombay/IITB-WRF_Chem/BASELINE/r1i1p1f1/1hr/tas/gn/tas_1hr_IITB-WRF_Chem_BASELINE_r1i1p1f1_gn_201511010100-201512010000.nc', '/mnt/nas/DATA/kaushik/proc/NoLBC_DU/NCAP-COALESCE/NCAP-COALESCE/IIT-Bombay/IITB-WRF_Chem/BASELINE/r1i1p1f1/1hr/tas/gn/tas_1hr_IITB-WRF_Chem_BASELINE_r1i1p1f1_gn_201512010100-201512311200.nc'] END\n",
      "['/mnt/nas/DATA/kaushik/proc/processed/NCAP-COALESCE/NCAP-COALESCE/IIT-Bombay/IITB-WRF_Chem/BASELINE/r1i1p1f1/1hr/tas/gn/tas_1hr_IITB-WRF_Chem_BASELINE_r1i1p1f1_gn_201501010100-201502010000.nc', '/mnt/nas/DATA/kaushik/proc/processed/NCAP-COALESCE/NCAP-COALESCE/IIT-Bombay/IITB-WRF_Chem/BASELINE/r1i1p1f1/1hr/tas/gn/tas_1hr_IITB-WRF_Chem_BASELINE_r1i1p1f1_gn_201502010100-201503010000.nc', '/mnt/nas/DATA/kaushik/proc/processed/NCAP-COALESCE/NCAP-COALESCE/IIT-Bombay/IITB-WRF_Chem/BASELINE/r1i1p1f1/1hr/tas/gn/tas_1hr_IITB-WRF_Chem_BASELINE_r1i1p1f1_gn_201503010100-201504010000.nc', '/mnt/nas/DATA/kaushik/proc/processed/NCAP-COALESCE/NCAP-COALESCE/IIT-Bombay/IITB-WRF_Chem/BASELINE/r1i1p1f1/1hr/tas/gn/tas_1hr_IITB-WRF_Chem_BASELINE_r1i1p1f1_gn_201504010100-201505010000.nc', '/mnt/nas/DATA/kaushik/proc/processed/NCAP-COALESCE/NCAP-COALESCE/IIT-Bombay/IITB-WRF_Chem/BASELINE/r1i1p1f1/1hr/tas/gn/tas_1hr_IITB-WRF_Chem_BASELINE_r1i1p1f1_gn_201505010100-201506010000.nc', '/mnt/nas/DATA/kaushik/proc/processed/NCAP-COALESCE/NCAP-COALESCE/IIT-Bombay/IITB-WRF_Chem/BASELINE/r1i1p1f1/1hr/tas/gn/tas_1hr_IITB-WRF_Chem_BASELINE_r1i1p1f1_gn_201506010100-201507010000.nc'] END\n"
     ]
    },
    {
     "name": "stderr",
     "output_type": "stream",
     "text": [
      "/home/kaushik/PYTHON/anaconda3/envs/vis/lib/python3.6/site-packages/xarray/core/nanops.py:142: RuntimeWarning: Mean of empty slice\n",
      "  return np.nanmean(a, axis=axis, dtype=dtype)\n"
     ]
    },
    {
     "name": "stdout",
     "output_type": "stream",
     "text": [
      "\n",
      "\n",
      "\n"
     ]
    },
    {
     "name": "stderr",
     "output_type": "stream",
     "text": [
      "/home/kaushik/PYTHON/anaconda3/envs/vis/lib/python3.6/site-packages/xarray/core/nanops.py:142: RuntimeWarning: Mean of empty slice\n",
      "  return np.nanmean(a, axis=axis, dtype=dtype)\n"
     ]
    },
    {
     "name": "stdout",
     "output_type": "stream",
     "text": [
      "\n",
      "\n",
      "\n"
     ]
    },
    {
     "name": "stderr",
     "output_type": "stream",
     "text": [
      "/home/kaushik/PYTHON/anaconda3/envs/vis/lib/python3.6/site-packages/xarray/core/nanops.py:142: RuntimeWarning: Mean of empty slice\n",
      "  return np.nanmean(a, axis=axis, dtype=dtype)\n"
     ]
    },
    {
     "name": "stdout",
     "output_type": "stream",
     "text": [
      "\n",
      "\n",
      "\n",
      "\n",
      "\n",
      "\n"
     ]
    },
    {
     "name": "stderr",
     "output_type": "stream",
     "text": [
      "/home/kaushik/PYTHON/anaconda3/envs/vis/lib/python3.6/site-packages/xarray/core/nanops.py:142: RuntimeWarning: Mean of empty slice\n",
      "  return np.nanmean(a, axis=axis, dtype=dtype)\n"
     ]
    },
    {
     "name": "stdout",
     "output_type": "stream",
     "text": [
      "\n",
      "\n",
      "\n",
      "\n",
      "\n",
      "\n"
     ]
    },
    {
     "name": "stderr",
     "output_type": "stream",
     "text": [
      "/home/kaushik/PYTHON/anaconda3/envs/vis/lib/python3.6/site-packages/xarray/core/nanops.py:142: RuntimeWarning: Mean of empty slice\n",
      "  return np.nanmean(a, axis=axis, dtype=dtype)\n"
     ]
    },
    {
     "name": "stdout",
     "output_type": "stream",
     "text": [
      "\n",
      "\n",
      "\n"
     ]
    },
    {
     "name": "stderr",
     "output_type": "stream",
     "text": [
      "/home/kaushik/PYTHON/anaconda3/envs/vis/lib/python3.6/site-packages/xarray/core/nanops.py:142: RuntimeWarning: Mean of empty slice\n",
      "  return np.nanmean(a, axis=axis, dtype=dtype)\n"
     ]
    },
    {
     "name": "stdout",
     "output_type": "stream",
     "text": [
      "\n",
      "\n",
      "\n"
     ]
    },
    {
     "name": "stderr",
     "output_type": "stream",
     "text": [
      "/home/kaushik/PYTHON/anaconda3/envs/vis/lib/python3.6/site-packages/xarray/core/nanops.py:142: RuntimeWarning: Mean of empty slice\n",
      "  return np.nanmean(a, axis=axis, dtype=dtype)\n"
     ]
    },
    {
     "name": "stdout",
     "output_type": "stream",
     "text": [
      "\n",
      "\n",
      "\n",
      "\n",
      "\n",
      "\n"
     ]
    },
    {
     "name": "stderr",
     "output_type": "stream",
     "text": [
      "/home/kaushik/PYTHON/anaconda3/envs/vis/lib/python3.6/site-packages/xarray/core/nanops.py:142: RuntimeWarning: Mean of empty slice\n",
      "  return np.nanmean(a, axis=axis, dtype=dtype)\n"
     ]
    },
    {
     "name": "stdout",
     "output_type": "stream",
     "text": [
      "\n",
      "\n",
      "\n"
     ]
    },
    {
     "name": "stderr",
     "output_type": "stream",
     "text": [
      "/home/kaushik/PYTHON/anaconda3/envs/vis/lib/python3.6/site-packages/xarray/core/nanops.py:142: RuntimeWarning: Mean of empty slice\n",
      "  return np.nanmean(a, axis=axis, dtype=dtype)\n"
     ]
    },
    {
     "name": "stdout",
     "output_type": "stream",
     "text": [
      "\n",
      "\n",
      "\n"
     ]
    },
    {
     "name": "stderr",
     "output_type": "stream",
     "text": [
      "/home/kaushik/PYTHON/anaconda3/envs/vis/lib/python3.6/site-packages/xarray/core/nanops.py:142: RuntimeWarning: Mean of empty slice\n",
      "  return np.nanmean(a, axis=axis, dtype=dtype)\n"
     ]
    },
    {
     "name": "stdout",
     "output_type": "stream",
     "text": [
      "\n",
      "\n",
      "\n"
     ]
    },
    {
     "name": "stderr",
     "output_type": "stream",
     "text": [
      "/home/kaushik/PYTHON/anaconda3/envs/vis/lib/python3.6/site-packages/xarray/core/nanops.py:142: RuntimeWarning: Mean of empty slice\n",
      "  return np.nanmean(a, axis=axis, dtype=dtype)\n"
     ]
    },
    {
     "name": "stdout",
     "output_type": "stream",
     "text": [
      "\n",
      "\n",
      "\n"
     ]
    },
    {
     "name": "stderr",
     "output_type": "stream",
     "text": [
      "/home/kaushik/PYTHON/anaconda3/envs/vis/lib/python3.6/site-packages/xarray/core/nanops.py:142: RuntimeWarning: Mean of empty slice\n",
      "  return np.nanmean(a, axis=axis, dtype=dtype)\n"
     ]
    },
    {
     "name": "stdout",
     "output_type": "stream",
     "text": [
      "\n",
      "\n",
      "\n",
      "\n",
      "\n",
      "\n"
     ]
    },
    {
     "name": "stderr",
     "output_type": "stream",
     "text": [
      "/home/kaushik/PYTHON/anaconda3/envs/vis/lib/python3.6/site-packages/xarray/core/nanops.py:142: RuntimeWarning: Mean of empty slice\n",
      "  return np.nanmean(a, axis=axis, dtype=dtype)\n"
     ]
    },
    {
     "name": "stdout",
     "output_type": "stream",
     "text": [
      "\n",
      "\n",
      "\n",
      "\n",
      "\n",
      "\n"
     ]
    },
    {
     "name": "stderr",
     "output_type": "stream",
     "text": [
      "/home/kaushik/PYTHON/anaconda3/envs/vis/lib/python3.6/site-packages/xarray/core/nanops.py:142: RuntimeWarning: Mean of empty slice\n",
      "  return np.nanmean(a, axis=axis, dtype=dtype)\n"
     ]
    },
    {
     "name": "stdout",
     "output_type": "stream",
     "text": [
      "\n",
      "\n",
      "\n"
     ]
    },
    {
     "name": "stderr",
     "output_type": "stream",
     "text": [
      "/home/kaushik/PYTHON/anaconda3/envs/vis/lib/python3.6/site-packages/xarray/core/nanops.py:142: RuntimeWarning: Mean of empty slice\n",
      "  return np.nanmean(a, axis=axis, dtype=dtype)\n"
     ]
    },
    {
     "name": "stdout",
     "output_type": "stream",
     "text": [
      "\n",
      "\n",
      "\n"
     ]
    },
    {
     "name": "stderr",
     "output_type": "stream",
     "text": [
      "/home/kaushik/PYTHON/anaconda3/envs/vis/lib/python3.6/site-packages/xarray/core/nanops.py:142: RuntimeWarning: Mean of empty slice\n",
      "  return np.nanmean(a, axis=axis, dtype=dtype)\n"
     ]
    },
    {
     "name": "stdout",
     "output_type": "stream",
     "text": [
      "\n",
      "\n",
      "\n",
      "\n",
      "\n",
      "\n"
     ]
    },
    {
     "name": "stderr",
     "output_type": "stream",
     "text": [
      "/home/kaushik/PYTHON/anaconda3/envs/vis/lib/python3.6/site-packages/xarray/core/nanops.py:142: RuntimeWarning: Mean of empty slice\n",
      "  return np.nanmean(a, axis=axis, dtype=dtype)\n"
     ]
    },
    {
     "name": "stdout",
     "output_type": "stream",
     "text": [
      "\n",
      "\n",
      "\n"
     ]
    },
    {
     "name": "stderr",
     "output_type": "stream",
     "text": [
      "/home/kaushik/PYTHON/anaconda3/envs/vis/lib/python3.6/site-packages/xarray/core/nanops.py:142: RuntimeWarning: Mean of empty slice\n",
      "  return np.nanmean(a, axis=axis, dtype=dtype)\n"
     ]
    },
    {
     "name": "stdout",
     "output_type": "stream",
     "text": [
      "\n",
      "\n",
      "\n"
     ]
    },
    {
     "name": "stderr",
     "output_type": "stream",
     "text": [
      "/home/kaushik/PYTHON/anaconda3/envs/vis/lib/python3.6/site-packages/xarray/core/nanops.py:142: RuntimeWarning: Mean of empty slice\n",
      "  return np.nanmean(a, axis=axis, dtype=dtype)\n"
     ]
    },
    {
     "name": "stdout",
     "output_type": "stream",
     "text": [
      "\n",
      "\n",
      "\n"
     ]
    },
    {
     "name": "stderr",
     "output_type": "stream",
     "text": [
      "/home/kaushik/PYTHON/anaconda3/envs/vis/lib/python3.6/site-packages/xarray/core/nanops.py:142: RuntimeWarning: Mean of empty slice\n",
      "  return np.nanmean(a, axis=axis, dtype=dtype)\n"
     ]
    },
    {
     "name": "stdout",
     "output_type": "stream",
     "text": [
      "\n",
      "\n",
      "\n"
     ]
    },
    {
     "name": "stderr",
     "output_type": "stream",
     "text": [
      "/home/kaushik/PYTHON/anaconda3/envs/vis/lib/python3.6/site-packages/xarray/core/nanops.py:142: RuntimeWarning: Mean of empty slice\n",
      "  return np.nanmean(a, axis=axis, dtype=dtype)\n"
     ]
    },
    {
     "name": "stdout",
     "output_type": "stream",
     "text": [
      "\n",
      "\n",
      "\n",
      "\n",
      "\n",
      "\n"
     ]
    },
    {
     "name": "stderr",
     "output_type": "stream",
     "text": [
      "/home/kaushik/PYTHON/anaconda3/envs/vis/lib/python3.6/site-packages/xarray/core/nanops.py:142: RuntimeWarning: Mean of empty slice\n",
      "  return np.nanmean(a, axis=axis, dtype=dtype)\n"
     ]
    },
    {
     "name": "stdout",
     "output_type": "stream",
     "text": [
      "\n",
      "\n",
      "\n",
      "\n",
      "\n",
      "\n"
     ]
    },
    {
     "name": "stderr",
     "output_type": "stream",
     "text": [
      "/home/kaushik/PYTHON/anaconda3/envs/vis/lib/python3.6/site-packages/xarray/core/nanops.py:142: RuntimeWarning: Mean of empty slice\n",
      "  return np.nanmean(a, axis=axis, dtype=dtype)\n"
     ]
    },
    {
     "name": "stdout",
     "output_type": "stream",
     "text": [
      "\n",
      "\n",
      "\n"
     ]
    },
    {
     "name": "stderr",
     "output_type": "stream",
     "text": [
      "/home/kaushik/PYTHON/anaconda3/envs/vis/lib/python3.6/site-packages/xarray/core/nanops.py:142: RuntimeWarning: Mean of empty slice\n",
      "  return np.nanmean(a, axis=axis, dtype=dtype)\n"
     ]
    },
    {
     "name": "stdout",
     "output_type": "stream",
     "text": [
      "\n",
      "\n",
      "\n"
     ]
    },
    {
     "name": "stderr",
     "output_type": "stream",
     "text": [
      "/home/kaushik/PYTHON/anaconda3/envs/vis/lib/python3.6/site-packages/xarray/core/nanops.py:142: RuntimeWarning: Mean of empty slice\n",
      "  return np.nanmean(a, axis=axis, dtype=dtype)\n"
     ]
    },
    {
     "name": "stdout",
     "output_type": "stream",
     "text": [
      "\n",
      "\n",
      "\n",
      "\n",
      "\n",
      "\n"
     ]
    },
    {
     "name": "stderr",
     "output_type": "stream",
     "text": [
      "/home/kaushik/PYTHON/anaconda3/envs/vis/lib/python3.6/site-packages/xarray/core/nanops.py:142: RuntimeWarning: Mean of empty slice\n",
      "  return np.nanmean(a, axis=axis, dtype=dtype)\n"
     ]
    },
    {
     "name": "stdout",
     "output_type": "stream",
     "text": [
      "\n",
      "\n",
      "\n"
     ]
    },
    {
     "name": "stderr",
     "output_type": "stream",
     "text": [
      "/home/kaushik/PYTHON/anaconda3/envs/vis/lib/python3.6/site-packages/xarray/core/nanops.py:142: RuntimeWarning: Mean of empty slice\n",
      "  return np.nanmean(a, axis=axis, dtype=dtype)\n"
     ]
    },
    {
     "name": "stdout",
     "output_type": "stream",
     "text": [
      "\n",
      "\n",
      "\n"
     ]
    },
    {
     "name": "stderr",
     "output_type": "stream",
     "text": [
      "/home/kaushik/PYTHON/anaconda3/envs/vis/lib/python3.6/site-packages/xarray/core/nanops.py:142: RuntimeWarning: Mean of empty slice\n",
      "  return np.nanmean(a, axis=axis, dtype=dtype)\n"
     ]
    },
    {
     "name": "stdout",
     "output_type": "stream",
     "text": [
      "\n",
      "\n",
      "\n"
     ]
    },
    {
     "name": "stderr",
     "output_type": "stream",
     "text": [
      "/home/kaushik/PYTHON/anaconda3/envs/vis/lib/python3.6/site-packages/xarray/core/nanops.py:142: RuntimeWarning: Mean of empty slice\n",
      "  return np.nanmean(a, axis=axis, dtype=dtype)\n"
     ]
    },
    {
     "name": "stdout",
     "output_type": "stream",
     "text": [
      "\n",
      "\n",
      "\n"
     ]
    },
    {
     "name": "stderr",
     "output_type": "stream",
     "text": [
      "/home/kaushik/PYTHON/anaconda3/envs/vis/lib/python3.6/site-packages/xarray/core/nanops.py:142: RuntimeWarning: Mean of empty slice\n",
      "  return np.nanmean(a, axis=axis, dtype=dtype)\n"
     ]
    },
    {
     "name": "stdout",
     "output_type": "stream",
     "text": [
      "\n",
      "\n",
      "\n",
      "\n",
      "\n",
      "\n"
     ]
    },
    {
     "name": "stderr",
     "output_type": "stream",
     "text": [
      "/home/kaushik/PYTHON/anaconda3/envs/vis/lib/python3.6/site-packages/xarray/core/nanops.py:142: RuntimeWarning: Mean of empty slice\n",
      "  return np.nanmean(a, axis=axis, dtype=dtype)\n"
     ]
    },
    {
     "name": "stdout",
     "output_type": "stream",
     "text": [
      "\n",
      "\n",
      "\n",
      "\n",
      "\n",
      "\n"
     ]
    },
    {
     "name": "stderr",
     "output_type": "stream",
     "text": [
      "/home/kaushik/PYTHON/anaconda3/envs/vis/lib/python3.6/site-packages/xarray/core/nanops.py:142: RuntimeWarning: Mean of empty slice\n",
      "  return np.nanmean(a, axis=axis, dtype=dtype)\n"
     ]
    },
    {
     "name": "stdout",
     "output_type": "stream",
     "text": [
      "\n",
      "\n",
      "\n"
     ]
    },
    {
     "name": "stderr",
     "output_type": "stream",
     "text": [
      "/home/kaushik/PYTHON/anaconda3/envs/vis/lib/python3.6/site-packages/xarray/core/nanops.py:142: RuntimeWarning: Mean of empty slice\n",
      "  return np.nanmean(a, axis=axis, dtype=dtype)\n"
     ]
    },
    {
     "name": "stdout",
     "output_type": "stream",
     "text": [
      "\n",
      "\n",
      "\n"
     ]
    },
    {
     "name": "stderr",
     "output_type": "stream",
     "text": [
      "/home/kaushik/PYTHON/anaconda3/envs/vis/lib/python3.6/site-packages/xarray/core/nanops.py:142: RuntimeWarning: Mean of empty slice\n",
      "  return np.nanmean(a, axis=axis, dtype=dtype)\n"
     ]
    },
    {
     "name": "stdout",
     "output_type": "stream",
     "text": [
      "\n",
      "\n",
      "\n",
      "\n",
      "\n",
      "\n"
     ]
    },
    {
     "name": "stderr",
     "output_type": "stream",
     "text": [
      "/home/kaushik/PYTHON/anaconda3/envs/vis/lib/python3.6/site-packages/xarray/core/nanops.py:142: RuntimeWarning: Mean of empty slice\n",
      "  return np.nanmean(a, axis=axis, dtype=dtype)\n"
     ]
    },
    {
     "name": "stdout",
     "output_type": "stream",
     "text": [
      "\n",
      "\n",
      "\n"
     ]
    },
    {
     "name": "stderr",
     "output_type": "stream",
     "text": [
      "/home/kaushik/PYTHON/anaconda3/envs/vis/lib/python3.6/site-packages/xarray/core/nanops.py:142: RuntimeWarning: Mean of empty slice\n",
      "  return np.nanmean(a, axis=axis, dtype=dtype)\n"
     ]
    },
    {
     "name": "stdout",
     "output_type": "stream",
     "text": [
      "\n",
      "\n",
      "\n"
     ]
    },
    {
     "name": "stderr",
     "output_type": "stream",
     "text": [
      "/home/kaushik/PYTHON/anaconda3/envs/vis/lib/python3.6/site-packages/xarray/core/nanops.py:142: RuntimeWarning: Mean of empty slice\n",
      "  return np.nanmean(a, axis=axis, dtype=dtype)\n"
     ]
    },
    {
     "name": "stdout",
     "output_type": "stream",
     "text": [
      "\n",
      "\n",
      "\n"
     ]
    },
    {
     "name": "stderr",
     "output_type": "stream",
     "text": [
      "/home/kaushik/PYTHON/anaconda3/envs/vis/lib/python3.6/site-packages/xarray/core/nanops.py:142: RuntimeWarning: Mean of empty slice\n",
      "  return np.nanmean(a, axis=axis, dtype=dtype)\n"
     ]
    },
    {
     "name": "stdout",
     "output_type": "stream",
     "text": [
      "\n",
      "\n",
      "\n"
     ]
    },
    {
     "name": "stderr",
     "output_type": "stream",
     "text": [
      "/home/kaushik/PYTHON/anaconda3/envs/vis/lib/python3.6/site-packages/xarray/core/nanops.py:142: RuntimeWarning: Mean of empty slice\n",
      "  return np.nanmean(a, axis=axis, dtype=dtype)\n"
     ]
    },
    {
     "name": "stdout",
     "output_type": "stream",
     "text": [
      "\n",
      "\n",
      "\n",
      "\n",
      "\n",
      "\n"
     ]
    },
    {
     "name": "stderr",
     "output_type": "stream",
     "text": [
      "/home/kaushik/PYTHON/anaconda3/envs/vis/lib/python3.6/site-packages/xarray/core/nanops.py:142: RuntimeWarning: Mean of empty slice\n",
      "  return np.nanmean(a, axis=axis, dtype=dtype)\n"
     ]
    },
    {
     "name": "stdout",
     "output_type": "stream",
     "text": [
      "\n",
      "\n",
      "\n",
      "\n",
      "\n",
      "\n"
     ]
    },
    {
     "name": "stderr",
     "output_type": "stream",
     "text": [
      "/home/kaushik/PYTHON/anaconda3/envs/vis/lib/python3.6/site-packages/xarray/core/nanops.py:142: RuntimeWarning: Mean of empty slice\n",
      "  return np.nanmean(a, axis=axis, dtype=dtype)\n"
     ]
    },
    {
     "name": "stdout",
     "output_type": "stream",
     "text": [
      "\n",
      "\n",
      "\n"
     ]
    },
    {
     "name": "stderr",
     "output_type": "stream",
     "text": [
      "/home/kaushik/PYTHON/anaconda3/envs/vis/lib/python3.6/site-packages/xarray/core/nanops.py:142: RuntimeWarning: Mean of empty slice\n",
      "  return np.nanmean(a, axis=axis, dtype=dtype)\n"
     ]
    },
    {
     "name": "stdout",
     "output_type": "stream",
     "text": [
      "\n",
      "\n",
      "\n"
     ]
    },
    {
     "name": "stderr",
     "output_type": "stream",
     "text": [
      "/home/kaushik/PYTHON/anaconda3/envs/vis/lib/python3.6/site-packages/xarray/core/nanops.py:142: RuntimeWarning: Mean of empty slice\n",
      "  return np.nanmean(a, axis=axis, dtype=dtype)\n"
     ]
    },
    {
     "name": "stdout",
     "output_type": "stream",
     "text": [
      "\n",
      "\n",
      "\n",
      "\n",
      "\n",
      "\n"
     ]
    },
    {
     "name": "stderr",
     "output_type": "stream",
     "text": [
      "/home/kaushik/PYTHON/anaconda3/envs/vis/lib/python3.6/site-packages/xarray/core/nanops.py:142: RuntimeWarning: Mean of empty slice\n",
      "  return np.nanmean(a, axis=axis, dtype=dtype)\n"
     ]
    },
    {
     "name": "stdout",
     "output_type": "stream",
     "text": [
      "\n",
      "\n",
      "\n"
     ]
    },
    {
     "name": "stderr",
     "output_type": "stream",
     "text": [
      "/home/kaushik/PYTHON/anaconda3/envs/vis/lib/python3.6/site-packages/xarray/core/nanops.py:142: RuntimeWarning: Mean of empty slice\n",
      "  return np.nanmean(a, axis=axis, dtype=dtype)\n"
     ]
    },
    {
     "name": "stdout",
     "output_type": "stream",
     "text": [
      "\n",
      "\n",
      "\n"
     ]
    },
    {
     "name": "stderr",
     "output_type": "stream",
     "text": [
      "/home/kaushik/PYTHON/anaconda3/envs/vis/lib/python3.6/site-packages/xarray/core/nanops.py:142: RuntimeWarning: Mean of empty slice\n",
      "  return np.nanmean(a, axis=axis, dtype=dtype)\n"
     ]
    },
    {
     "name": "stdout",
     "output_type": "stream",
     "text": [
      "\n",
      "\n",
      "\n"
     ]
    },
    {
     "name": "stderr",
     "output_type": "stream",
     "text": [
      "/home/kaushik/PYTHON/anaconda3/envs/vis/lib/python3.6/site-packages/xarray/core/nanops.py:142: RuntimeWarning: Mean of empty slice\n",
      "  return np.nanmean(a, axis=axis, dtype=dtype)\n"
     ]
    },
    {
     "name": "stdout",
     "output_type": "stream",
     "text": [
      "\n",
      "\n",
      "\n"
     ]
    },
    {
     "name": "stderr",
     "output_type": "stream",
     "text": [
      "/home/kaushik/PYTHON/anaconda3/envs/vis/lib/python3.6/site-packages/xarray/core/nanops.py:142: RuntimeWarning: Mean of empty slice\n",
      "  return np.nanmean(a, axis=axis, dtype=dtype)\n"
     ]
    },
    {
     "name": "stdout",
     "output_type": "stream",
     "text": [
      "\n",
      "\n",
      "\n",
      "\n",
      "\n",
      "\n"
     ]
    },
    {
     "name": "stderr",
     "output_type": "stream",
     "text": [
      "/home/kaushik/PYTHON/anaconda3/envs/vis/lib/python3.6/site-packages/xarray/core/nanops.py:142: RuntimeWarning: Mean of empty slice\n",
      "  return np.nanmean(a, axis=axis, dtype=dtype)\n"
     ]
    },
    {
     "name": "stdout",
     "output_type": "stream",
     "text": [
      "\n",
      "\n",
      "\n",
      "\n",
      "\n",
      "\n"
     ]
    },
    {
     "name": "stderr",
     "output_type": "stream",
     "text": [
      "/home/kaushik/PYTHON/anaconda3/envs/vis/lib/python3.6/site-packages/xarray/core/nanops.py:142: RuntimeWarning: Mean of empty slice\n",
      "  return np.nanmean(a, axis=axis, dtype=dtype)\n"
     ]
    },
    {
     "name": "stdout",
     "output_type": "stream",
     "text": [
      "\n",
      "\n",
      "\n"
     ]
    },
    {
     "name": "stderr",
     "output_type": "stream",
     "text": [
      "/home/kaushik/PYTHON/anaconda3/envs/vis/lib/python3.6/site-packages/xarray/core/nanops.py:142: RuntimeWarning: Mean of empty slice\n",
      "  return np.nanmean(a, axis=axis, dtype=dtype)\n"
     ]
    },
    {
     "name": "stdout",
     "output_type": "stream",
     "text": [
      "\n",
      "\n",
      "\n"
     ]
    },
    {
     "name": "stderr",
     "output_type": "stream",
     "text": [
      "/home/kaushik/PYTHON/anaconda3/envs/vis/lib/python3.6/site-packages/xarray/core/nanops.py:142: RuntimeWarning: Mean of empty slice\n",
      "  return np.nanmean(a, axis=axis, dtype=dtype)\n"
     ]
    },
    {
     "name": "stdout",
     "output_type": "stream",
     "text": [
      "\n",
      "\n",
      "\n",
      "\n",
      "\n",
      "\n"
     ]
    },
    {
     "name": "stderr",
     "output_type": "stream",
     "text": [
      "/home/kaushik/PYTHON/anaconda3/envs/vis/lib/python3.6/site-packages/xarray/core/nanops.py:142: RuntimeWarning: Mean of empty slice\n",
      "  return np.nanmean(a, axis=axis, dtype=dtype)\n"
     ]
    },
    {
     "name": "stdout",
     "output_type": "stream",
     "text": [
      "\n",
      "\n",
      "\n"
     ]
    },
    {
     "name": "stderr",
     "output_type": "stream",
     "text": [
      "/home/kaushik/PYTHON/anaconda3/envs/vis/lib/python3.6/site-packages/xarray/core/nanops.py:142: RuntimeWarning: Mean of empty slice\n",
      "  return np.nanmean(a, axis=axis, dtype=dtype)\n"
     ]
    },
    {
     "name": "stdout",
     "output_type": "stream",
     "text": [
      "\n",
      "\n",
      "\n"
     ]
    },
    {
     "name": "stderr",
     "output_type": "stream",
     "text": [
      "/home/kaushik/PYTHON/anaconda3/envs/vis/lib/python3.6/site-packages/xarray/core/nanops.py:142: RuntimeWarning: Mean of empty slice\n",
      "  return np.nanmean(a, axis=axis, dtype=dtype)\n"
     ]
    },
    {
     "name": "stdout",
     "output_type": "stream",
     "text": [
      "\n",
      "\n",
      "\n"
     ]
    },
    {
     "name": "stderr",
     "output_type": "stream",
     "text": [
      "/home/kaushik/PYTHON/anaconda3/envs/vis/lib/python3.6/site-packages/xarray/core/nanops.py:142: RuntimeWarning: Mean of empty slice\n",
      "  return np.nanmean(a, axis=axis, dtype=dtype)\n"
     ]
    },
    {
     "name": "stdout",
     "output_type": "stream",
     "text": [
      "\n",
      "\n",
      "\n"
     ]
    },
    {
     "name": "stderr",
     "output_type": "stream",
     "text": [
      "/home/kaushik/PYTHON/anaconda3/envs/vis/lib/python3.6/site-packages/xarray/core/nanops.py:142: RuntimeWarning: Mean of empty slice\n",
      "  return np.nanmean(a, axis=axis, dtype=dtype)\n"
     ]
    },
    {
     "name": "stdout",
     "output_type": "stream",
     "text": [
      "\n",
      "\n",
      "\n",
      "\n",
      "\n",
      "\n"
     ]
    },
    {
     "name": "stderr",
     "output_type": "stream",
     "text": [
      "/home/kaushik/PYTHON/anaconda3/envs/vis/lib/python3.6/site-packages/xarray/core/nanops.py:142: RuntimeWarning: Mean of empty slice\n",
      "  return np.nanmean(a, axis=axis, dtype=dtype)\n"
     ]
    },
    {
     "name": "stdout",
     "output_type": "stream",
     "text": [
      "\n",
      "\n",
      "\n",
      "\n",
      "\n",
      "\n"
     ]
    },
    {
     "name": "stderr",
     "output_type": "stream",
     "text": [
      "/home/kaushik/PYTHON/anaconda3/envs/vis/lib/python3.6/site-packages/xarray/core/nanops.py:142: RuntimeWarning: Mean of empty slice\n",
      "  return np.nanmean(a, axis=axis, dtype=dtype)\n"
     ]
    },
    {
     "name": "stdout",
     "output_type": "stream",
     "text": [
      "\n",
      "\n",
      "\n"
     ]
    },
    {
     "name": "stderr",
     "output_type": "stream",
     "text": [
      "/home/kaushik/PYTHON/anaconda3/envs/vis/lib/python3.6/site-packages/xarray/core/nanops.py:142: RuntimeWarning: Mean of empty slice\n",
      "  return np.nanmean(a, axis=axis, dtype=dtype)\n"
     ]
    },
    {
     "name": "stdout",
     "output_type": "stream",
     "text": [
      "\n",
      "\n",
      "\n"
     ]
    },
    {
     "name": "stderr",
     "output_type": "stream",
     "text": [
      "/home/kaushik/PYTHON/anaconda3/envs/vis/lib/python3.6/site-packages/xarray/core/nanops.py:142: RuntimeWarning: Mean of empty slice\n",
      "  return np.nanmean(a, axis=axis, dtype=dtype)\n"
     ]
    },
    {
     "name": "stdout",
     "output_type": "stream",
     "text": [
      "\n",
      "\n",
      "\n",
      "\n",
      "\n",
      "\n"
     ]
    },
    {
     "name": "stderr",
     "output_type": "stream",
     "text": [
      "/home/kaushik/PYTHON/anaconda3/envs/vis/lib/python3.6/site-packages/xarray/core/nanops.py:142: RuntimeWarning: Mean of empty slice\n",
      "  return np.nanmean(a, axis=axis, dtype=dtype)\n"
     ]
    },
    {
     "name": "stdout",
     "output_type": "stream",
     "text": [
      "\n",
      "\n",
      "\n"
     ]
    },
    {
     "name": "stderr",
     "output_type": "stream",
     "text": [
      "/home/kaushik/PYTHON/anaconda3/envs/vis/lib/python3.6/site-packages/xarray/core/nanops.py:142: RuntimeWarning: Mean of empty slice\n",
      "  return np.nanmean(a, axis=axis, dtype=dtype)\n"
     ]
    },
    {
     "name": "stdout",
     "output_type": "stream",
     "text": [
      "\n",
      "\n",
      "\n"
     ]
    },
    {
     "name": "stderr",
     "output_type": "stream",
     "text": [
      "/home/kaushik/PYTHON/anaconda3/envs/vis/lib/python3.6/site-packages/xarray/core/nanops.py:142: RuntimeWarning: Mean of empty slice\n",
      "  return np.nanmean(a, axis=axis, dtype=dtype)\n"
     ]
    },
    {
     "name": "stdout",
     "output_type": "stream",
     "text": [
      "\n",
      "\n",
      "\n",
      "\n",
      "\n",
      "\n"
     ]
    },
    {
     "name": "stderr",
     "output_type": "stream",
     "text": [
      "/home/kaushik/PYTHON/anaconda3/envs/vis/lib/python3.6/site-packages/xarray/core/nanops.py:142: RuntimeWarning: Mean of empty slice\n",
      "  return np.nanmean(a, axis=axis, dtype=dtype)\n"
     ]
    },
    {
     "name": "stdout",
     "output_type": "stream",
     "text": [
      "\n",
      "\n",
      "\n",
      "\n",
      "\n",
      "\n"
     ]
    },
    {
     "name": "stderr",
     "output_type": "stream",
     "text": [
      "/home/kaushik/PYTHON/anaconda3/envs/vis/lib/python3.6/site-packages/xarray/core/nanops.py:142: RuntimeWarning: Mean of empty slice\n",
      "  return np.nanmean(a, axis=axis, dtype=dtype)\n"
     ]
    },
    {
     "name": "stdout",
     "output_type": "stream",
     "text": [
      "\n",
      "\n",
      "\n",
      "\n",
      "\n",
      "\n"
     ]
    },
    {
     "name": "stderr",
     "output_type": "stream",
     "text": [
      "/home/kaushik/PYTHON/anaconda3/envs/vis/lib/python3.6/site-packages/xarray/core/nanops.py:142: RuntimeWarning: Mean of empty slice\n",
      "  return np.nanmean(a, axis=axis, dtype=dtype)\n"
     ]
    },
    {
     "name": "stdout",
     "output_type": "stream",
     "text": [
      "\n",
      "\n",
      "\n",
      "\n",
      "\n",
      "\n"
     ]
    },
    {
     "name": "stderr",
     "output_type": "stream",
     "text": [
      "/home/kaushik/PYTHON/anaconda3/envs/vis/lib/python3.6/site-packages/xarray/core/nanops.py:142: RuntimeWarning: Mean of empty slice\n",
      "  return np.nanmean(a, axis=axis, dtype=dtype)\n"
     ]
    },
    {
     "name": "stdout",
     "output_type": "stream",
     "text": [
      "\n",
      "\n",
      "\n",
      "\n",
      "\n",
      "\n"
     ]
    },
    {
     "name": "stderr",
     "output_type": "stream",
     "text": [
      "/home/kaushik/PYTHON/anaconda3/envs/vis/lib/python3.6/site-packages/xarray/core/nanops.py:142: RuntimeWarning: Mean of empty slice\n",
      "  return np.nanmean(a, axis=axis, dtype=dtype)\n"
     ]
    },
    {
     "name": "stdout",
     "output_type": "stream",
     "text": [
      "\n",
      "\n",
      "\n",
      "\n",
      "\n",
      "\n"
     ]
    },
    {
     "name": "stderr",
     "output_type": "stream",
     "text": [
      "/home/kaushik/PYTHON/anaconda3/envs/vis/lib/python3.6/site-packages/xarray/core/nanops.py:142: RuntimeWarning: Mean of empty slice\n",
      "  return np.nanmean(a, axis=axis, dtype=dtype)\n"
     ]
    },
    {
     "name": "stdout",
     "output_type": "stream",
     "text": [
      "\n",
      "\n",
      "\n",
      "\n",
      "\n",
      "\n"
     ]
    },
    {
     "name": "stderr",
     "output_type": "stream",
     "text": [
      "/home/kaushik/PYTHON/anaconda3/envs/vis/lib/python3.6/site-packages/xarray/core/nanops.py:142: RuntimeWarning: Mean of empty slice\n",
      "  return np.nanmean(a, axis=axis, dtype=dtype)\n"
     ]
    },
    {
     "name": "stdout",
     "output_type": "stream",
     "text": [
      "\n",
      "\n",
      "\n",
      "\n",
      "\n",
      "\n"
     ]
    },
    {
     "name": "stderr",
     "output_type": "stream",
     "text": [
      "/home/kaushik/PYTHON/anaconda3/envs/vis/lib/python3.6/site-packages/xarray/core/nanops.py:142: RuntimeWarning: Mean of empty slice\n",
      "  return np.nanmean(a, axis=axis, dtype=dtype)\n"
     ]
    },
    {
     "name": "stdout",
     "output_type": "stream",
     "text": [
      "\n",
      "\n",
      "\n",
      "\n",
      "\n",
      "\n"
     ]
    },
    {
     "name": "stderr",
     "output_type": "stream",
     "text": [
      "/home/kaushik/PYTHON/anaconda3/envs/vis/lib/python3.6/site-packages/xarray/core/nanops.py:142: RuntimeWarning: Mean of empty slice\n",
      "  return np.nanmean(a, axis=axis, dtype=dtype)\n"
     ]
    },
    {
     "name": "stdout",
     "output_type": "stream",
     "text": [
      "\n",
      "\n",
      "\n",
      "\n",
      "\n",
      "\n"
     ]
    },
    {
     "name": "stderr",
     "output_type": "stream",
     "text": [
      "/home/kaushik/PYTHON/anaconda3/envs/vis/lib/python3.6/site-packages/xarray/core/nanops.py:142: RuntimeWarning: Mean of empty slice\n",
      "  return np.nanmean(a, axis=axis, dtype=dtype)\n"
     ]
    },
    {
     "name": "stdout",
     "output_type": "stream",
     "text": [
      "\n",
      "\n",
      "\n",
      "\n",
      "\n",
      "\n"
     ]
    },
    {
     "name": "stderr",
     "output_type": "stream",
     "text": [
      "/home/kaushik/PYTHON/anaconda3/envs/vis/lib/python3.6/site-packages/xarray/core/nanops.py:142: RuntimeWarning: Mean of empty slice\n",
      "  return np.nanmean(a, axis=axis, dtype=dtype)\n"
     ]
    },
    {
     "name": "stdout",
     "output_type": "stream",
     "text": [
      "\n",
      "\n",
      "\n",
      "\n",
      "\n",
      "\n"
     ]
    },
    {
     "name": "stderr",
     "output_type": "stream",
     "text": [
      "/home/kaushik/PYTHON/anaconda3/envs/vis/lib/python3.6/site-packages/xarray/core/nanops.py:142: RuntimeWarning: Mean of empty slice\n",
      "  return np.nanmean(a, axis=axis, dtype=dtype)\n"
     ]
    },
    {
     "name": "stdout",
     "output_type": "stream",
     "text": [
      "\n",
      "\n",
      "\n",
      "\n",
      "\n",
      "\n"
     ]
    },
    {
     "name": "stderr",
     "output_type": "stream",
     "text": [
      "/home/kaushik/PYTHON/anaconda3/envs/vis/lib/python3.6/site-packages/xarray/core/nanops.py:142: RuntimeWarning: Mean of empty slice\n",
      "  return np.nanmean(a, axis=axis, dtype=dtype)\n"
     ]
    },
    {
     "name": "stdout",
     "output_type": "stream",
     "text": [
      "\n",
      "\n",
      "\n",
      "\n",
      "\n",
      "\n"
     ]
    },
    {
     "name": "stderr",
     "output_type": "stream",
     "text": [
      "/home/kaushik/PYTHON/anaconda3/envs/vis/lib/python3.6/site-packages/xarray/core/nanops.py:142: RuntimeWarning: Mean of empty slice\n",
      "  return np.nanmean(a, axis=axis, dtype=dtype)\n"
     ]
    },
    {
     "name": "stdout",
     "output_type": "stream",
     "text": [
      "\n",
      "\n",
      "\n",
      "\n",
      "\n",
      "\n"
     ]
    },
    {
     "name": "stderr",
     "output_type": "stream",
     "text": [
      "/home/kaushik/PYTHON/anaconda3/envs/vis/lib/python3.6/site-packages/xarray/core/nanops.py:142: RuntimeWarning: Mean of empty slice\n",
      "  return np.nanmean(a, axis=axis, dtype=dtype)\n"
     ]
    },
    {
     "name": "stdout",
     "output_type": "stream",
     "text": [
      "\n",
      "\n",
      "\n",
      "\n",
      "\n",
      "\n"
     ]
    },
    {
     "name": "stderr",
     "output_type": "stream",
     "text": [
      "/home/kaushik/PYTHON/anaconda3/envs/vis/lib/python3.6/site-packages/xarray/core/nanops.py:142: RuntimeWarning: Mean of empty slice\n",
      "  return np.nanmean(a, axis=axis, dtype=dtype)\n"
     ]
    },
    {
     "name": "stdout",
     "output_type": "stream",
     "text": [
      "\n",
      "\n",
      "\n",
      "\n",
      "\n",
      "\n"
     ]
    },
    {
     "name": "stderr",
     "output_type": "stream",
     "text": [
      "/home/kaushik/PYTHON/anaconda3/envs/vis/lib/python3.6/site-packages/xarray/core/nanops.py:142: RuntimeWarning: Mean of empty slice\n",
      "  return np.nanmean(a, axis=axis, dtype=dtype)\n"
     ]
    },
    {
     "name": "stdout",
     "output_type": "stream",
     "text": [
      "\n",
      "\n",
      "\n",
      "\n",
      "\n",
      "\n"
     ]
    },
    {
     "name": "stderr",
     "output_type": "stream",
     "text": [
      "/home/kaushik/PYTHON/anaconda3/envs/vis/lib/python3.6/site-packages/xarray/core/nanops.py:142: RuntimeWarning: Mean of empty slice\n",
      "  return np.nanmean(a, axis=axis, dtype=dtype)\n"
     ]
    },
    {
     "name": "stdout",
     "output_type": "stream",
     "text": [
      "\n",
      "\n",
      "\n",
      "\n",
      "\n",
      "\n"
     ]
    },
    {
     "name": "stderr",
     "output_type": "stream",
     "text": [
      "/home/kaushik/PYTHON/anaconda3/envs/vis/lib/python3.6/site-packages/xarray/core/nanops.py:142: RuntimeWarning: Mean of empty slice\n",
      "  return np.nanmean(a, axis=axis, dtype=dtype)\n"
     ]
    },
    {
     "name": "stdout",
     "output_type": "stream",
     "text": [
      "\n",
      "\n",
      "\n",
      "\n",
      "\n",
      "\n"
     ]
    },
    {
     "name": "stderr",
     "output_type": "stream",
     "text": [
      "/home/kaushik/PYTHON/anaconda3/envs/vis/lib/python3.6/site-packages/xarray/core/nanops.py:142: RuntimeWarning: Mean of empty slice\n",
      "  return np.nanmean(a, axis=axis, dtype=dtype)\n"
     ]
    },
    {
     "name": "stdout",
     "output_type": "stream",
     "text": [
      "\n",
      "\n",
      "\n",
      "\n",
      "\n",
      "\n"
     ]
    },
    {
     "name": "stderr",
     "output_type": "stream",
     "text": [
      "/home/kaushik/PYTHON/anaconda3/envs/vis/lib/python3.6/site-packages/xarray/core/nanops.py:142: RuntimeWarning: Mean of empty slice\n",
      "  return np.nanmean(a, axis=axis, dtype=dtype)\n"
     ]
    },
    {
     "name": "stdout",
     "output_type": "stream",
     "text": [
      "\n",
      "\n",
      "\n",
      "\n",
      "\n",
      "\n"
     ]
    },
    {
     "name": "stderr",
     "output_type": "stream",
     "text": [
      "/home/kaushik/PYTHON/anaconda3/envs/vis/lib/python3.6/site-packages/xarray/core/nanops.py:142: RuntimeWarning: Mean of empty slice\n",
      "  return np.nanmean(a, axis=axis, dtype=dtype)\n"
     ]
    },
    {
     "name": "stdout",
     "output_type": "stream",
     "text": [
      "\n",
      "\n",
      "\n",
      "\n",
      "\n",
      "\n"
     ]
    },
    {
     "name": "stderr",
     "output_type": "stream",
     "text": [
      "/home/kaushik/PYTHON/anaconda3/envs/vis/lib/python3.6/site-packages/xarray/core/nanops.py:142: RuntimeWarning: Mean of empty slice\n",
      "  return np.nanmean(a, axis=axis, dtype=dtype)\n"
     ]
    },
    {
     "name": "stdout",
     "output_type": "stream",
     "text": [
      "\n",
      "\n",
      "\n",
      "\n",
      "\n",
      "\n"
     ]
    },
    {
     "name": "stderr",
     "output_type": "stream",
     "text": [
      "/home/kaushik/PYTHON/anaconda3/envs/vis/lib/python3.6/site-packages/xarray/core/nanops.py:142: RuntimeWarning: Mean of empty slice\n",
      "  return np.nanmean(a, axis=axis, dtype=dtype)\n"
     ]
    },
    {
     "name": "stdout",
     "output_type": "stream",
     "text": [
      "\n",
      "\n",
      "\n",
      "\n",
      "\n",
      "\n"
     ]
    },
    {
     "name": "stderr",
     "output_type": "stream",
     "text": [
      "/home/kaushik/PYTHON/anaconda3/envs/vis/lib/python3.6/site-packages/xarray/core/nanops.py:142: RuntimeWarning: Mean of empty slice\n",
      "  return np.nanmean(a, axis=axis, dtype=dtype)\n"
     ]
    },
    {
     "name": "stdout",
     "output_type": "stream",
     "text": [
      "\n",
      "\n",
      "\n",
      "\n",
      "\n",
      "\n"
     ]
    },
    {
     "name": "stderr",
     "output_type": "stream",
     "text": [
      "/home/kaushik/PYTHON/anaconda3/envs/vis/lib/python3.6/site-packages/xarray/core/nanops.py:142: RuntimeWarning: Mean of empty slice\n",
      "  return np.nanmean(a, axis=axis, dtype=dtype)\n"
     ]
    },
    {
     "name": "stdout",
     "output_type": "stream",
     "text": [
      "\n",
      "\n",
      "\n",
      "\n",
      "\n",
      "\n"
     ]
    },
    {
     "name": "stderr",
     "output_type": "stream",
     "text": [
      "/home/kaushik/PYTHON/anaconda3/envs/vis/lib/python3.6/site-packages/xarray/core/nanops.py:142: RuntimeWarning: Mean of empty slice\n",
      "  return np.nanmean(a, axis=axis, dtype=dtype)\n"
     ]
    },
    {
     "name": "stdout",
     "output_type": "stream",
     "text": [
      "\n",
      "\n",
      "\n",
      "\n",
      "\n",
      "\n"
     ]
    },
    {
     "name": "stderr",
     "output_type": "stream",
     "text": [
      "/home/kaushik/PYTHON/anaconda3/envs/vis/lib/python3.6/site-packages/xarray/core/nanops.py:142: RuntimeWarning: Mean of empty slice\n",
      "  return np.nanmean(a, axis=axis, dtype=dtype)\n"
     ]
    },
    {
     "name": "stdout",
     "output_type": "stream",
     "text": [
      "\n",
      "\n",
      "\n",
      "\n",
      "\n",
      "\n"
     ]
    },
    {
     "name": "stderr",
     "output_type": "stream",
     "text": [
      "/home/kaushik/PYTHON/anaconda3/envs/vis/lib/python3.6/site-packages/xarray/core/nanops.py:142: RuntimeWarning: Mean of empty slice\n",
      "  return np.nanmean(a, axis=axis, dtype=dtype)\n"
     ]
    },
    {
     "name": "stdout",
     "output_type": "stream",
     "text": [
      "\n",
      "\n",
      "\n",
      "\n",
      "\n",
      "\n"
     ]
    },
    {
     "name": "stderr",
     "output_type": "stream",
     "text": [
      "/home/kaushik/PYTHON/anaconda3/envs/vis/lib/python3.6/site-packages/xarray/core/nanops.py:142: RuntimeWarning: Mean of empty slice\n",
      "  return np.nanmean(a, axis=axis, dtype=dtype)\n"
     ]
    },
    {
     "name": "stdout",
     "output_type": "stream",
     "text": [
      "\n",
      "\n",
      "\n",
      "\n",
      "\n",
      "\n"
     ]
    },
    {
     "name": "stderr",
     "output_type": "stream",
     "text": [
      "/home/kaushik/PYTHON/anaconda3/envs/vis/lib/python3.6/site-packages/xarray/core/nanops.py:142: RuntimeWarning: Mean of empty slice\n",
      "  return np.nanmean(a, axis=axis, dtype=dtype)\n"
     ]
    },
    {
     "name": "stdout",
     "output_type": "stream",
     "text": [
      "\n",
      "\n",
      "\n",
      "\n",
      "\n",
      "\n"
     ]
    },
    {
     "name": "stderr",
     "output_type": "stream",
     "text": [
      "/home/kaushik/PYTHON/anaconda3/envs/vis/lib/python3.6/site-packages/xarray/core/nanops.py:142: RuntimeWarning: Mean of empty slice\n",
      "  return np.nanmean(a, axis=axis, dtype=dtype)\n"
     ]
    },
    {
     "name": "stdout",
     "output_type": "stream",
     "text": [
      "\n",
      "\n",
      "\n",
      "\n",
      "\n",
      "\n"
     ]
    },
    {
     "name": "stderr",
     "output_type": "stream",
     "text": [
      "/home/kaushik/PYTHON/anaconda3/envs/vis/lib/python3.6/site-packages/xarray/core/nanops.py:142: RuntimeWarning: Mean of empty slice\n",
      "  return np.nanmean(a, axis=axis, dtype=dtype)\n"
     ]
    },
    {
     "name": "stdout",
     "output_type": "stream",
     "text": [
      "\n",
      "\n",
      "\n",
      "\n",
      "\n",
      "\n"
     ]
    },
    {
     "name": "stderr",
     "output_type": "stream",
     "text": [
      "/home/kaushik/PYTHON/anaconda3/envs/vis/lib/python3.6/site-packages/xarray/core/nanops.py:142: RuntimeWarning: Mean of empty slice\n",
      "  return np.nanmean(a, axis=axis, dtype=dtype)\n"
     ]
    },
    {
     "name": "stdout",
     "output_type": "stream",
     "text": [
      "\n",
      "\n",
      "\n",
      "\n",
      "\n",
      "\n"
     ]
    },
    {
     "name": "stderr",
     "output_type": "stream",
     "text": [
      "/home/kaushik/PYTHON/anaconda3/envs/vis/lib/python3.6/site-packages/xarray/core/nanops.py:142: RuntimeWarning: Mean of empty slice\n",
      "  return np.nanmean(a, axis=axis, dtype=dtype)\n"
     ]
    },
    {
     "name": "stdout",
     "output_type": "stream",
     "text": [
      "\n",
      "\n",
      "\n",
      "\n",
      "\n",
      "\n"
     ]
    },
    {
     "name": "stderr",
     "output_type": "stream",
     "text": [
      "/home/kaushik/PYTHON/anaconda3/envs/vis/lib/python3.6/site-packages/xarray/core/nanops.py:142: RuntimeWarning: Mean of empty slice\n",
      "  return np.nanmean(a, axis=axis, dtype=dtype)\n"
     ]
    },
    {
     "name": "stdout",
     "output_type": "stream",
     "text": [
      "\n",
      "\n",
      "\n",
      "\n",
      "\n",
      "\n"
     ]
    },
    {
     "name": "stderr",
     "output_type": "stream",
     "text": [
      "/home/kaushik/PYTHON/anaconda3/envs/vis/lib/python3.6/site-packages/xarray/core/nanops.py:142: RuntimeWarning: Mean of empty slice\n",
      "  return np.nanmean(a, axis=axis, dtype=dtype)\n"
     ]
    },
    {
     "name": "stdout",
     "output_type": "stream",
     "text": [
      "\n",
      "\n",
      "\n",
      "\n",
      "\n",
      "\n"
     ]
    },
    {
     "name": "stderr",
     "output_type": "stream",
     "text": [
      "/home/kaushik/PYTHON/anaconda3/envs/vis/lib/python3.6/site-packages/xarray/core/nanops.py:142: RuntimeWarning: Mean of empty slice\n",
      "  return np.nanmean(a, axis=axis, dtype=dtype)\n"
     ]
    },
    {
     "name": "stdout",
     "output_type": "stream",
     "text": [
      "\n",
      "\n",
      "\n",
      "\n",
      "\n",
      "\n"
     ]
    },
    {
     "name": "stderr",
     "output_type": "stream",
     "text": [
      "/home/kaushik/PYTHON/anaconda3/envs/vis/lib/python3.6/site-packages/xarray/core/nanops.py:142: RuntimeWarning: Mean of empty slice\n",
      "  return np.nanmean(a, axis=axis, dtype=dtype)\n"
     ]
    },
    {
     "name": "stdout",
     "output_type": "stream",
     "text": [
      "\n",
      "\n",
      "\n",
      "\n",
      "\n",
      "\n"
     ]
    },
    {
     "name": "stderr",
     "output_type": "stream",
     "text": [
      "/home/kaushik/PYTHON/anaconda3/envs/vis/lib/python3.6/site-packages/xarray/core/nanops.py:142: RuntimeWarning: Mean of empty slice\n",
      "  return np.nanmean(a, axis=axis, dtype=dtype)\n"
     ]
    },
    {
     "name": "stdout",
     "output_type": "stream",
     "text": [
      "\n",
      "\n",
      "\n",
      "\n",
      "\n",
      "\n"
     ]
    },
    {
     "name": "stderr",
     "output_type": "stream",
     "text": [
      "/home/kaushik/PYTHON/anaconda3/envs/vis/lib/python3.6/site-packages/xarray/core/nanops.py:142: RuntimeWarning: Mean of empty slice\n",
      "  return np.nanmean(a, axis=axis, dtype=dtype)\n"
     ]
    },
    {
     "name": "stdout",
     "output_type": "stream",
     "text": [
      "\n",
      "\n",
      "\n",
      "\n",
      "\n",
      "\n"
     ]
    },
    {
     "name": "stderr",
     "output_type": "stream",
     "text": [
      "/home/kaushik/PYTHON/anaconda3/envs/vis/lib/python3.6/site-packages/xarray/core/nanops.py:142: RuntimeWarning: Mean of empty slice\n",
      "  return np.nanmean(a, axis=axis, dtype=dtype)\n"
     ]
    }
   ],
   "source": [
    "vname_m = 'tas'\n",
    "vname_o = 'CRU-T'\n",
    "scale = 1\n",
    "dmap = ['NoLBC_DU','processed']\n",
    "\n",
    "dset_WRF = ext_WRF(vname_m)\n",
    "dset_OBS = (ext_OBS()[vname_o]).resample(time = '1D').mean()\n",
    "for exp in range(2):\n",
    "    with pd.ExcelWriter(vname_m+'_'+dmap[exp]+'.xlsx') as writer:\n",
    "        for reg in ['R1','R2','R3','R4','R5','R6','ind']:\n",
    "            sts = {}\n",
    "            for mon in range(1,7,1):\n",
    "                x = calc_stats(dset_WRF.isel(exp=exp),dset_OBS.sel(time = dset_OBS['time.year']==2015),region=reg,tperiod=mon,obs_name=vname_o,scale=scale)\n",
    "                sts[mon] = x\n",
    "            sts = pd.DataFrame(sts).T\n",
    "            sts.to_excel(writer,sheet_name=reg)\n",
    "            \n",
    "            \n",
    "vname_m = 'tas'\n",
    "vname_o = 'CRU-T'\n",
    "scale = 1\n",
    "dset_WRF = ext_CBMZ(vname_m)\n",
    "dset_OBS = (ext_OBS()[vname_o]).resample(time = '1D').mean()\n",
    "\n",
    "with pd.ExcelWriter(vname_m+'_'+'CBMZ'+'.xlsx') as writer:\n",
    "    for reg in ['R1','R2','R3','R4','R5','R6','ind']:\n",
    "        sts = {}\n",
    "        for mon in range(1,13,1):\n",
    "            x = calc_stats(dset_WRF,dset_OBS.sel(time = dset_OBS['time.year']==2015),region=reg,tperiod=mon,obs_name=vname_o,scale=scale)\n",
    "            sts[mon] = x\n",
    "        sts = pd.DataFrame(sts).T\n",
    "        sts.to_excel(writer,sheet_name=reg)"
   ]
  },
  {
   "cell_type": "code",
   "execution_count": 13,
   "metadata": {},
   "outputs": [
    {
     "data": {
      "text/html": [
       "<div>\n",
       "<style scoped>\n",
       "    .dataframe tbody tr th:only-of-type {\n",
       "        vertical-align: middle;\n",
       "    }\n",
       "\n",
       "    .dataframe tbody tr th {\n",
       "        vertical-align: top;\n",
       "    }\n",
       "\n",
       "    .dataframe thead th {\n",
       "        text-align: right;\n",
       "    }\n",
       "</style>\n",
       "<table border=\"1\" class=\"dataframe\">\n",
       "  <thead>\n",
       "    <tr style=\"text-align: right;\">\n",
       "      <th></th>\n",
       "      <th>NMB</th>\n",
       "      <th>RMSE</th>\n",
       "      <th>NMSE</th>\n",
       "      <th>O</th>\n",
       "      <th>M</th>\n",
       "    </tr>\n",
       "  </thead>\n",
       "  <tbody>\n",
       "    <tr>\n",
       "      <th>1</th>\n",
       "      <td>-0.28</td>\n",
       "      <td>0.82</td>\n",
       "      <td>0.0</td>\n",
       "      <td>289.321991</td>\n",
       "      <td>288.500000</td>\n",
       "    </tr>\n",
       "    <tr>\n",
       "      <th>2</th>\n",
       "      <td>0.25</td>\n",
       "      <td>0.73</td>\n",
       "      <td>0.0</td>\n",
       "      <td>292.467010</td>\n",
       "      <td>293.192993</td>\n",
       "    </tr>\n",
       "    <tr>\n",
       "      <th>3</th>\n",
       "      <td>-0.35</td>\n",
       "      <td>1.04</td>\n",
       "      <td>0.0</td>\n",
       "      <td>295.888000</td>\n",
       "      <td>294.851013</td>\n",
       "    </tr>\n",
       "    <tr>\n",
       "      <th>4</th>\n",
       "      <td>-0.26</td>\n",
       "      <td>0.78</td>\n",
       "      <td>0.0</td>\n",
       "      <td>299.777008</td>\n",
       "      <td>299.000000</td>\n",
       "    </tr>\n",
       "    <tr>\n",
       "      <th>5</th>\n",
       "      <td>-0.36</td>\n",
       "      <td>1.10</td>\n",
       "      <td>0.0</td>\n",
       "      <td>303.000000</td>\n",
       "      <td>301.904999</td>\n",
       "    </tr>\n",
       "    <tr>\n",
       "      <th>6</th>\n",
       "      <td>-0.26</td>\n",
       "      <td>0.77</td>\n",
       "      <td>0.0</td>\n",
       "      <td>301.614990</td>\n",
       "      <td>300.843994</td>\n",
       "    </tr>\n",
       "    <tr>\n",
       "      <th>7</th>\n",
       "      <td>0.06</td>\n",
       "      <td>0.19</td>\n",
       "      <td>0.0</td>\n",
       "      <td>300.140015</td>\n",
       "      <td>300.334015</td>\n",
       "    </tr>\n",
       "    <tr>\n",
       "      <th>8</th>\n",
       "      <td>-0.05</td>\n",
       "      <td>0.16</td>\n",
       "      <td>0.0</td>\n",
       "      <td>299.645996</td>\n",
       "      <td>299.489990</td>\n",
       "    </tr>\n",
       "    <tr>\n",
       "      <th>9</th>\n",
       "      <td>-0.10</td>\n",
       "      <td>0.31</td>\n",
       "      <td>0.0</td>\n",
       "      <td>299.600006</td>\n",
       "      <td>299.292999</td>\n",
       "    </tr>\n",
       "    <tr>\n",
       "      <th>10</th>\n",
       "      <td>-0.06</td>\n",
       "      <td>0.18</td>\n",
       "      <td>0.0</td>\n",
       "      <td>298.399994</td>\n",
       "      <td>298.217010</td>\n",
       "    </tr>\n",
       "    <tr>\n",
       "      <th>11</th>\n",
       "      <td>-0.17</td>\n",
       "      <td>0.51</td>\n",
       "      <td>0.0</td>\n",
       "      <td>294.829987</td>\n",
       "      <td>294.325012</td>\n",
       "    </tr>\n",
       "    <tr>\n",
       "      <th>12</th>\n",
       "      <td>-0.44</td>\n",
       "      <td>1.28</td>\n",
       "      <td>0.0</td>\n",
       "      <td>291.203003</td>\n",
       "      <td>289.919006</td>\n",
       "    </tr>\n",
       "  </tbody>\n",
       "</table>\n",
       "</div>"
      ],
      "text/plain": [
       "     NMB  RMSE  NMSE           O           M\n",
       "1  -0.28  0.82   0.0  289.321991  288.500000\n",
       "2   0.25  0.73   0.0  292.467010  293.192993\n",
       "3  -0.35  1.04   0.0  295.888000  294.851013\n",
       "4  -0.26  0.78   0.0  299.777008  299.000000\n",
       "5  -0.36  1.10   0.0  303.000000  301.904999\n",
       "6  -0.26  0.77   0.0  301.614990  300.843994\n",
       "7   0.06  0.19   0.0  300.140015  300.334015\n",
       "8  -0.05  0.16   0.0  299.645996  299.489990\n",
       "9  -0.10  0.31   0.0  299.600006  299.292999\n",
       "10 -0.06  0.18   0.0  298.399994  298.217010\n",
       "11 -0.17  0.51   0.0  294.829987  294.325012\n",
       "12 -0.44  1.28   0.0  291.203003  289.919006"
      ]
     },
     "execution_count": 13,
     "metadata": {},
     "output_type": "execute_result"
    }
   ],
   "source": [
    "sts"
   ]
  },
  {
   "cell_type": "code",
   "execution_count": 15,
   "metadata": {},
   "outputs": [
    {
     "name": "stdout",
     "output_type": "stream",
     "text": [
      "['/mnt/nas/DATA/kaushik/proc/NoLBC_DU/NCAP-COALESCE/NCAP-COALESCE/IIT-Bombay/IITB-WRF_Chem/BASELINE/r1i1p1f1/1hr/zmla/gn/zmla_1hr_IITB-WRF_Chem_BASELINE_r1i1p1f1_gn_201501011300-201502010000.nc', '/mnt/nas/DATA/kaushik/proc/NoLBC_DU/NCAP-COALESCE/NCAP-COALESCE/IIT-Bombay/IITB-WRF_Chem/BASELINE/r1i1p1f1/1hr/zmla/gn/zmla_1hr_IITB-WRF_Chem_BASELINE_r1i1p1f1_gn_201502010100-201503010000.nc', '/mnt/nas/DATA/kaushik/proc/NoLBC_DU/NCAP-COALESCE/NCAP-COALESCE/IIT-Bombay/IITB-WRF_Chem/BASELINE/r1i1p1f1/1hr/zmla/gn/zmla_1hr_IITB-WRF_Chem_BASELINE_r1i1p1f1_gn_201503010100-201504010000.nc', '/mnt/nas/DATA/kaushik/proc/NoLBC_DU/NCAP-COALESCE/NCAP-COALESCE/IIT-Bombay/IITB-WRF_Chem/BASELINE/r1i1p1f1/1hr/zmla/gn/zmla_1hr_IITB-WRF_Chem_BASELINE_r1i1p1f1_gn_201504011300-201505010000.nc', '/mnt/nas/DATA/kaushik/proc/NoLBC_DU/NCAP-COALESCE/NCAP-COALESCE/IIT-Bombay/IITB-WRF_Chem/BASELINE/r1i1p1f1/1hr/zmla/gn/zmla_1hr_IITB-WRF_Chem_BASELINE_r1i1p1f1_gn_201505010100-201506010000.nc', '/mnt/nas/DATA/kaushik/proc/NoLBC_DU/NCAP-COALESCE/NCAP-COALESCE/IIT-Bombay/IITB-WRF_Chem/BASELINE/r1i1p1f1/1hr/zmla/gn/zmla_1hr_IITB-WRF_Chem_BASELINE_r1i1p1f1_gn_201506011300-201507010000.nc', '/mnt/nas/DATA/kaushik/proc/NoLBC_DU/NCAP-COALESCE/NCAP-COALESCE/IIT-Bombay/IITB-WRF_Chem/BASELINE/r1i1p1f1/1hr/zmla/gn/zmla_1hr_IITB-WRF_Chem_BASELINE_r1i1p1f1_gn_201507010100-201507301200.nc', '/mnt/nas/DATA/kaushik/proc/NoLBC_DU/NCAP-COALESCE/NCAP-COALESCE/IIT-Bombay/IITB-WRF_Chem/BASELINE/r1i1p1f1/1hr/zmla/gn/zmla_1hr_IITB-WRF_Chem_BASELINE_r1i1p1f1_gn_201508011300-201509010000.nc', '/mnt/nas/DATA/kaushik/proc/NoLBC_DU/NCAP-COALESCE/NCAP-COALESCE/IIT-Bombay/IITB-WRF_Chem/BASELINE/r1i1p1f1/1hr/zmla/gn/zmla_1hr_IITB-WRF_Chem_BASELINE_r1i1p1f1_gn_201509010100-201510010000.nc', '/mnt/nas/DATA/kaushik/proc/NoLBC_DU/NCAP-COALESCE/NCAP-COALESCE/IIT-Bombay/IITB-WRF_Chem/BASELINE/r1i1p1f1/1hr/zmla/gn/zmla_1hr_IITB-WRF_Chem_BASELINE_r1i1p1f1_gn_201510010100-201511010000.nc', '/mnt/nas/DATA/kaushik/proc/NoLBC_DU/NCAP-COALESCE/NCAP-COALESCE/IIT-Bombay/IITB-WRF_Chem/BASELINE/r1i1p1f1/1hr/zmla/gn/zmla_1hr_IITB-WRF_Chem_BASELINE_r1i1p1f1_gn_201511010100-201512010000.nc', '/mnt/nas/DATA/kaushik/proc/NoLBC_DU/NCAP-COALESCE/NCAP-COALESCE/IIT-Bombay/IITB-WRF_Chem/BASELINE/r1i1p1f1/1hr/zmla/gn/zmla_1hr_IITB-WRF_Chem_BASELINE_r1i1p1f1_gn_201512010100-201512311200.nc'] END\n",
      "['/mnt/nas/DATA/kaushik/proc/processed/NCAP-COALESCE/NCAP-COALESCE/IIT-Bombay/IITB-WRF_Chem/BASELINE/r1i1p1f1/1hr/zmla/gn/zmla_1hr_IITB-WRF_Chem_BASELINE_r1i1p1f1_gn_201501010100-201502010000.nc', '/mnt/nas/DATA/kaushik/proc/processed/NCAP-COALESCE/NCAP-COALESCE/IIT-Bombay/IITB-WRF_Chem/BASELINE/r1i1p1f1/1hr/zmla/gn/zmla_1hr_IITB-WRF_Chem_BASELINE_r1i1p1f1_gn_201502010100-201503010000.nc', '/mnt/nas/DATA/kaushik/proc/processed/NCAP-COALESCE/NCAP-COALESCE/IIT-Bombay/IITB-WRF_Chem/BASELINE/r1i1p1f1/1hr/zmla/gn/zmla_1hr_IITB-WRF_Chem_BASELINE_r1i1p1f1_gn_201503010100-201504010000.nc', '/mnt/nas/DATA/kaushik/proc/processed/NCAP-COALESCE/NCAP-COALESCE/IIT-Bombay/IITB-WRF_Chem/BASELINE/r1i1p1f1/1hr/zmla/gn/zmla_1hr_IITB-WRF_Chem_BASELINE_r1i1p1f1_gn_201504010100-201505010000.nc', '/mnt/nas/DATA/kaushik/proc/processed/NCAP-COALESCE/NCAP-COALESCE/IIT-Bombay/IITB-WRF_Chem/BASELINE/r1i1p1f1/1hr/zmla/gn/zmla_1hr_IITB-WRF_Chem_BASELINE_r1i1p1f1_gn_201505010100-201506010000.nc', '/mnt/nas/DATA/kaushik/proc/processed/NCAP-COALESCE/NCAP-COALESCE/IIT-Bombay/IITB-WRF_Chem/BASELINE/r1i1p1f1/1hr/zmla/gn/zmla_1hr_IITB-WRF_Chem_BASELINE_r1i1p1f1_gn_201506010100-201507010000.nc'] END\n",
      "\n",
      "\n",
      "\n"
     ]
    },
    {
     "name": "stderr",
     "output_type": "stream",
     "text": [
      "/home/kaushik/PYTHON/anaconda3/envs/vis/lib/python3.6/site-packages/xarray/core/nanops.py:142: RuntimeWarning: Mean of empty slice\n",
      "  return np.nanmean(a, axis=axis, dtype=dtype)\n"
     ]
    },
    {
     "name": "stdout",
     "output_type": "stream",
     "text": [
      "\n",
      "\n",
      "\n",
      "\n",
      "\n",
      "\n",
      "\n",
      "\n",
      "\n",
      "\n",
      "\n",
      "\n",
      "\n",
      "\n",
      "\n",
      "\n",
      "\n",
      "\n"
     ]
    },
    {
     "name": "stderr",
     "output_type": "stream",
     "text": [
      "/home/kaushik/PYTHON/anaconda3/envs/vis/lib/python3.6/site-packages/xarray/core/nanops.py:142: RuntimeWarning: Mean of empty slice\n",
      "  return np.nanmean(a, axis=axis, dtype=dtype)\n"
     ]
    },
    {
     "name": "stdout",
     "output_type": "stream",
     "text": [
      "\n",
      "\n",
      "\n",
      "\n",
      "\n",
      "\n",
      "\n",
      "\n",
      "\n",
      "\n",
      "\n",
      "\n"
     ]
    },
    {
     "name": "stderr",
     "output_type": "stream",
     "text": [
      "/home/kaushik/PYTHON/anaconda3/envs/vis/lib/python3.6/site-packages/xarray/core/nanops.py:142: RuntimeWarning: Mean of empty slice\n",
      "  return np.nanmean(a, axis=axis, dtype=dtype)\n"
     ]
    },
    {
     "name": "stdout",
     "output_type": "stream",
     "text": [
      "\n",
      "\n",
      "\n",
      "\n",
      "\n",
      "\n"
     ]
    },
    {
     "name": "stderr",
     "output_type": "stream",
     "text": [
      "/home/kaushik/PYTHON/anaconda3/envs/vis/lib/python3.6/site-packages/xarray/core/nanops.py:142: RuntimeWarning: Mean of empty slice\n",
      "  return np.nanmean(a, axis=axis, dtype=dtype)\n"
     ]
    },
    {
     "name": "stdout",
     "output_type": "stream",
     "text": [
      "\n",
      "\n",
      "\n",
      "\n",
      "\n",
      "\n",
      "\n",
      "\n",
      "\n",
      "\n",
      "\n",
      "\n",
      "\n",
      "\n",
      "\n",
      "\n",
      "\n",
      "\n"
     ]
    },
    {
     "name": "stderr",
     "output_type": "stream",
     "text": [
      "/home/kaushik/PYTHON/anaconda3/envs/vis/lib/python3.6/site-packages/xarray/core/nanops.py:142: RuntimeWarning: Mean of empty slice\n",
      "  return np.nanmean(a, axis=axis, dtype=dtype)\n"
     ]
    },
    {
     "name": "stdout",
     "output_type": "stream",
     "text": [
      "\n",
      "\n",
      "\n",
      "\n",
      "\n",
      "\n",
      "\n",
      "\n",
      "\n",
      "\n",
      "\n",
      "\n"
     ]
    },
    {
     "name": "stderr",
     "output_type": "stream",
     "text": [
      "/home/kaushik/PYTHON/anaconda3/envs/vis/lib/python3.6/site-packages/xarray/core/nanops.py:142: RuntimeWarning: Mean of empty slice\n",
      "  return np.nanmean(a, axis=axis, dtype=dtype)\n"
     ]
    },
    {
     "name": "stdout",
     "output_type": "stream",
     "text": [
      "\n",
      "\n",
      "\n",
      "\n",
      "\n",
      "\n"
     ]
    },
    {
     "name": "stderr",
     "output_type": "stream",
     "text": [
      "/home/kaushik/PYTHON/anaconda3/envs/vis/lib/python3.6/site-packages/xarray/core/nanops.py:142: RuntimeWarning: Mean of empty slice\n",
      "  return np.nanmean(a, axis=axis, dtype=dtype)\n"
     ]
    },
    {
     "name": "stdout",
     "output_type": "stream",
     "text": [
      "\n",
      "\n",
      "\n",
      "\n",
      "\n",
      "\n",
      "\n",
      "\n",
      "\n",
      "\n",
      "\n",
      "\n",
      "\n",
      "\n",
      "\n",
      "\n",
      "\n",
      "\n"
     ]
    },
    {
     "name": "stderr",
     "output_type": "stream",
     "text": [
      "/home/kaushik/PYTHON/anaconda3/envs/vis/lib/python3.6/site-packages/xarray/core/nanops.py:142: RuntimeWarning: Mean of empty slice\n",
      "  return np.nanmean(a, axis=axis, dtype=dtype)\n"
     ]
    },
    {
     "name": "stdout",
     "output_type": "stream",
     "text": [
      "\n",
      "\n",
      "\n",
      "\n",
      "\n",
      "\n",
      "\n",
      "\n",
      "\n",
      "\n",
      "\n",
      "\n"
     ]
    },
    {
     "name": "stderr",
     "output_type": "stream",
     "text": [
      "/home/kaushik/PYTHON/anaconda3/envs/vis/lib/python3.6/site-packages/xarray/core/nanops.py:142: RuntimeWarning: Mean of empty slice\n",
      "  return np.nanmean(a, axis=axis, dtype=dtype)\n"
     ]
    },
    {
     "name": "stdout",
     "output_type": "stream",
     "text": [
      "\n",
      "\n",
      "\n",
      "\n",
      "\n",
      "\n"
     ]
    },
    {
     "name": "stderr",
     "output_type": "stream",
     "text": [
      "/home/kaushik/PYTHON/anaconda3/envs/vis/lib/python3.6/site-packages/xarray/core/nanops.py:142: RuntimeWarning: Mean of empty slice\n",
      "  return np.nanmean(a, axis=axis, dtype=dtype)\n"
     ]
    },
    {
     "name": "stdout",
     "output_type": "stream",
     "text": [
      "\n",
      "\n",
      "\n",
      "\n",
      "\n",
      "\n",
      "\n",
      "\n",
      "\n",
      "\n",
      "\n",
      "\n",
      "\n",
      "\n",
      "\n",
      "\n",
      "\n",
      "\n"
     ]
    },
    {
     "name": "stderr",
     "output_type": "stream",
     "text": [
      "/home/kaushik/PYTHON/anaconda3/envs/vis/lib/python3.6/site-packages/xarray/core/nanops.py:142: RuntimeWarning: Mean of empty slice\n",
      "  return np.nanmean(a, axis=axis, dtype=dtype)\n"
     ]
    },
    {
     "name": "stdout",
     "output_type": "stream",
     "text": [
      "\n",
      "\n",
      "\n",
      "\n",
      "\n",
      "\n",
      "\n",
      "\n",
      "\n",
      "\n",
      "\n",
      "\n"
     ]
    },
    {
     "name": "stderr",
     "output_type": "stream",
     "text": [
      "/home/kaushik/PYTHON/anaconda3/envs/vis/lib/python3.6/site-packages/xarray/core/nanops.py:142: RuntimeWarning: Mean of empty slice\n",
      "  return np.nanmean(a, axis=axis, dtype=dtype)\n"
     ]
    },
    {
     "name": "stdout",
     "output_type": "stream",
     "text": [
      "\n",
      "\n",
      "\n",
      "\n",
      "\n",
      "\n"
     ]
    },
    {
     "name": "stderr",
     "output_type": "stream",
     "text": [
      "/home/kaushik/PYTHON/anaconda3/envs/vis/lib/python3.6/site-packages/xarray/core/nanops.py:142: RuntimeWarning: Mean of empty slice\n",
      "  return np.nanmean(a, axis=axis, dtype=dtype)\n"
     ]
    },
    {
     "name": "stdout",
     "output_type": "stream",
     "text": [
      "\n",
      "\n",
      "\n",
      "\n",
      "\n",
      "\n",
      "\n",
      "\n",
      "\n",
      "\n",
      "\n",
      "\n",
      "\n",
      "\n",
      "\n",
      "\n",
      "\n",
      "\n"
     ]
    },
    {
     "name": "stderr",
     "output_type": "stream",
     "text": [
      "/home/kaushik/PYTHON/anaconda3/envs/vis/lib/python3.6/site-packages/xarray/core/nanops.py:142: RuntimeWarning: Mean of empty slice\n",
      "  return np.nanmean(a, axis=axis, dtype=dtype)\n"
     ]
    },
    {
     "name": "stdout",
     "output_type": "stream",
     "text": [
      "\n",
      "\n",
      "\n",
      "\n",
      "\n",
      "\n",
      "\n",
      "\n",
      "\n",
      "\n",
      "\n",
      "\n"
     ]
    },
    {
     "name": "stderr",
     "output_type": "stream",
     "text": [
      "/home/kaushik/PYTHON/anaconda3/envs/vis/lib/python3.6/site-packages/xarray/core/nanops.py:142: RuntimeWarning: Mean of empty slice\n",
      "  return np.nanmean(a, axis=axis, dtype=dtype)\n"
     ]
    },
    {
     "name": "stdout",
     "output_type": "stream",
     "text": [
      "\n",
      "\n",
      "\n",
      "\n",
      "\n",
      "\n"
     ]
    },
    {
     "name": "stderr",
     "output_type": "stream",
     "text": [
      "/home/kaushik/PYTHON/anaconda3/envs/vis/lib/python3.6/site-packages/xarray/core/nanops.py:142: RuntimeWarning: Mean of empty slice\n",
      "  return np.nanmean(a, axis=axis, dtype=dtype)\n"
     ]
    },
    {
     "name": "stdout",
     "output_type": "stream",
     "text": [
      "\n",
      "\n",
      "\n",
      "\n",
      "\n",
      "\n",
      "\n",
      "\n",
      "\n",
      "\n",
      "\n",
      "\n",
      "\n",
      "\n",
      "\n",
      "\n",
      "\n",
      "\n"
     ]
    },
    {
     "name": "stderr",
     "output_type": "stream",
     "text": [
      "/home/kaushik/PYTHON/anaconda3/envs/vis/lib/python3.6/site-packages/xarray/core/nanops.py:142: RuntimeWarning: Mean of empty slice\n",
      "  return np.nanmean(a, axis=axis, dtype=dtype)\n"
     ]
    },
    {
     "name": "stdout",
     "output_type": "stream",
     "text": [
      "\n",
      "\n",
      "\n",
      "\n",
      "\n",
      "\n",
      "\n",
      "\n",
      "\n",
      "\n",
      "\n",
      "\n"
     ]
    },
    {
     "name": "stderr",
     "output_type": "stream",
     "text": [
      "/home/kaushik/PYTHON/anaconda3/envs/vis/lib/python3.6/site-packages/xarray/core/nanops.py:142: RuntimeWarning: Mean of empty slice\n",
      "  return np.nanmean(a, axis=axis, dtype=dtype)\n"
     ]
    },
    {
     "name": "stdout",
     "output_type": "stream",
     "text": [
      "\n",
      "\n",
      "\n",
      "\n",
      "\n",
      "\n"
     ]
    },
    {
     "name": "stderr",
     "output_type": "stream",
     "text": [
      "/home/kaushik/PYTHON/anaconda3/envs/vis/lib/python3.6/site-packages/xarray/core/nanops.py:142: RuntimeWarning: Mean of empty slice\n",
      "  return np.nanmean(a, axis=axis, dtype=dtype)\n"
     ]
    },
    {
     "name": "stdout",
     "output_type": "stream",
     "text": [
      "\n",
      "\n",
      "\n",
      "\n",
      "\n",
      "\n",
      "\n",
      "\n",
      "\n",
      "\n",
      "\n",
      "\n",
      "\n",
      "\n",
      "\n",
      "\n",
      "\n",
      "\n"
     ]
    },
    {
     "name": "stderr",
     "output_type": "stream",
     "text": [
      "/home/kaushik/PYTHON/anaconda3/envs/vis/lib/python3.6/site-packages/xarray/core/nanops.py:142: RuntimeWarning: Mean of empty slice\n",
      "  return np.nanmean(a, axis=axis, dtype=dtype)\n"
     ]
    },
    {
     "name": "stdout",
     "output_type": "stream",
     "text": [
      "\n",
      "\n",
      "\n",
      "\n",
      "\n",
      "\n",
      "\n",
      "\n",
      "\n",
      "\n",
      "\n",
      "\n"
     ]
    },
    {
     "name": "stderr",
     "output_type": "stream",
     "text": [
      "/home/kaushik/PYTHON/anaconda3/envs/vis/lib/python3.6/site-packages/xarray/core/nanops.py:142: RuntimeWarning: Mean of empty slice\n",
      "  return np.nanmean(a, axis=axis, dtype=dtype)\n"
     ]
    },
    {
     "name": "stdout",
     "output_type": "stream",
     "text": [
      "\n",
      "\n",
      "\n",
      "\n",
      "\n",
      "\n",
      "\n",
      "\n",
      "\n",
      "\n",
      "\n",
      "\n",
      "\n",
      "\n",
      "\n",
      "\n",
      "\n",
      "\n",
      "\n",
      "\n",
      "\n",
      "\n",
      "\n",
      "\n",
      "\n",
      "\n",
      "\n",
      "\n",
      "\n",
      "\n",
      "\n",
      "\n",
      "\n",
      "\n",
      "\n",
      "\n",
      "\n",
      "\n",
      "\n",
      "\n",
      "\n",
      "\n",
      "\n",
      "\n",
      "\n",
      "\n",
      "\n",
      "\n",
      "\n",
      "\n",
      "\n",
      "\n",
      "\n",
      "\n",
      "\n",
      "\n",
      "\n",
      "\n",
      "\n",
      "\n",
      "\n",
      "\n",
      "\n",
      "\n",
      "\n",
      "\n",
      "\n",
      "\n",
      "\n",
      "\n",
      "\n",
      "\n",
      "\n",
      "\n",
      "\n",
      "\n",
      "\n",
      "\n",
      "\n",
      "\n",
      "\n",
      "\n",
      "\n",
      "\n",
      "\n",
      "\n",
      "\n",
      "\n",
      "\n",
      "\n",
      "\n",
      "\n",
      "\n",
      "\n",
      "\n",
      "\n",
      "\n",
      "\n",
      "\n",
      "\n",
      "\n",
      "\n",
      "\n",
      "\n",
      "\n",
      "\n",
      "\n",
      "\n",
      "\n",
      "\n",
      "\n",
      "\n",
      "\n",
      "\n",
      "\n",
      "\n",
      "\n",
      "\n",
      "\n",
      "\n",
      "\n",
      "\n",
      "\n",
      "\n",
      "\n",
      "\n",
      "\n",
      "\n",
      "\n",
      "\n",
      "\n",
      "\n",
      "\n",
      "\n",
      "\n",
      "\n",
      "\n",
      "\n",
      "\n",
      "\n",
      "\n",
      "\n",
      "\n",
      "\n",
      "\n",
      "\n",
      "\n",
      "\n",
      "\n",
      "\n",
      "\n",
      "\n",
      "\n",
      "\n",
      "\n",
      "\n",
      "\n",
      "\n",
      "\n",
      "\n",
      "\n",
      "\n",
      "\n",
      "\n",
      "\n",
      "\n",
      "\n",
      "\n",
      "\n",
      "\n",
      "\n",
      "\n",
      "\n",
      "\n",
      "\n",
      "\n",
      "\n",
      "\n",
      "\n",
      "\n",
      "\n",
      "\n",
      "\n",
      "\n",
      "\n",
      "\n",
      "\n",
      "\n",
      "\n",
      "\n",
      "\n",
      "\n",
      "\n",
      "\n",
      "\n",
      "\n",
      "\n",
      "\n",
      "\n",
      "\n",
      "\n",
      "\n",
      "\n",
      "\n",
      "\n",
      "\n",
      "\n",
      "\n",
      "\n",
      "\n",
      "\n",
      "\n",
      "\n",
      "\n",
      "\n",
      "\n",
      "\n",
      "\n",
      "\n",
      "\n",
      "\n",
      "\n",
      "\n",
      "\n",
      "\n",
      "\n",
      "\n",
      "\n",
      "\n",
      "\n",
      "\n",
      "\n",
      "\n",
      "\n",
      "\n",
      "\n",
      "\n",
      "\n",
      "\n",
      "\n",
      "\n",
      "\n",
      "\n",
      "\n",
      "\n",
      "\n",
      "\n",
      "\n",
      "\n",
      "\n",
      "\n",
      "\n",
      "\n",
      "\n",
      "\n"
     ]
    }
   ],
   "source": [
    "vname_m = 'zmla'\n",
    "vname_o = 'PBLH'\n",
    "scale = 1\n",
    "dmap = ['NoLBC_DU','processed']\n",
    "\n",
    "dset_WRF = ext_WRF(vname_m)\n",
    "dset_OBS = (ext_OBS()[vname_o]).resample(time = '1D').mean()\n",
    "for exp in range(2):\n",
    "    with pd.ExcelWriter(vname_m+'_'+dmap[exp]+'.xlsx') as writer:\n",
    "        for reg in ['R1','R2','R3','R4','R5','R6','ind']:\n",
    "            sts = {}\n",
    "            for mon in range(1,7,1):\n",
    "                x = calc_stats(dset_WRF.isel(exp=exp),dset_OBS,region=reg,tperiod=mon,obs_name=vname_o,scale=scale)\n",
    "                sts[mon] = x\n",
    "            sts = pd.DataFrame(sts).T\n",
    "            sts.to_excel(writer,sheet_name=reg)"
   ]
  },
  {
   "cell_type": "code",
   "execution_count": null,
   "metadata": {},
   "outputs": [],
   "source": [
    "vname_m = 'rsdscs'\n",
    "vname_o = 'CERES-SWDNC'\n",
    "scale = -1\n",
    "\n",
    "dset_WRF = ext_WRF(vname_m)\n",
    "dset_OBS = (ext_OBS()[vname_o]).resample(time = '1D').mean()\n",
    "for exp in range(2):\n",
    "    with pd.ExcelWriter(vname_m+'_'+dmap[exp]+'.xlsx') as writer:\n",
    "        for reg in ['R1','R2','R3','R4','R5','R6','ind']:\n",
    "            sts = {}\n",
    "            for mon in range(1,7,1):\n",
    "                x = calc_stats(dset_WRF.isel(exp=exp),dset_OBS.sel(time = dset_OBS['time.year']==2015),region=reg,tperiod=mon,obs_name=vname_o,scale=scale)\n",
    "                sts[mon] = x\n",
    "            sts = pd.DataFrame(sts).T\n",
    "            sts.to_excel(writer,sheet_name=reg)\n",
    "            \n",
    "vname_m = 'rlut'\n",
    "vname_o = 'CERES-OLR'\n",
    "scale = 1\n",
    "\n",
    "dset_WRF = ext_WRF(vname_m)\n",
    "dset_OBS = (ext_OBS()[vname_o]).resample(time = '1D').mean()\n",
    "for exp in range(2):\n",
    "    with pd.ExcelWriter(vname_m+'_'+dmap[exp]+'.xlsx') as writer:\n",
    "        for reg in ['R1','R2','R3','R4','R5','R6','ind']:\n",
    "            sts = {}\n",
    "            for mon in range(1,7,1):\n",
    "                x = calc_stats(dset_WRF.isel(exp=exp),dset_OBS.sel(time = dset_OBS['time.year']==2015),region=reg,tperiod=mon,obs_name=vname_o,scale=scale)\n",
    "                sts[mon] = x\n",
    "            sts = pd.DataFrame(sts).T\n",
    "            sts.to_excel(writer,sheet_name=reg)"
   ]
  }
 ],
 "metadata": {
  "kernelspec": {
   "display_name": "Python 3",
   "language": "python",
   "name": "python3"
  },
  "language_info": {
   "codemirror_mode": {
    "name": "ipython",
    "version": 3
   },
   "file_extension": ".py",
   "mimetype": "text/x-python",
   "name": "python",
   "nbconvert_exporter": "python",
   "pygments_lexer": "ipython3",
   "version": "3.6.10"
  }
 },
 "nbformat": 4,
 "nbformat_minor": 4
}
